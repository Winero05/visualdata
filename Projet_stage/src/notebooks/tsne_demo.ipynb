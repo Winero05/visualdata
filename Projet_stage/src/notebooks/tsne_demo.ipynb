{
 "cells": [
  {
   "cell_type": "code",
   "execution_count": 1,
   "id": "76cb76c5",
   "metadata": {},
   "outputs": [
    {
     "data": {
      "application/vnd.plotly.v1+json": {
       "config": {
        "plotlyServerURL": "https://plot.ly"
       },
       "data": [
        {
         "hovertemplate": "color=0<br>Dim1=%{x}<br>Dim2=%{y}<br>Dim3=%{z}<extra></extra>",
         "legendgroup": "0",
         "marker": {
          "color": "#636efa",
          "symbol": "circle"
         },
         "mode": "markers",
         "name": "0",
         "scene": "scene",
         "showlegend": true,
         "type": "scatter3d",
         "x": {
          "bdata": "oVnwPj+NJj74GLdAxz7QP0DlmkDIwIA/9v5NQBCdyUBnebxAlzwpQB0kSEBzQrxATza4QEyY/z/R4ZJADF+kQBNxiEDMHUVAA+pnQBbqzUDQeMFAzpGQQD/twkCAg8BAmuk/QCFwm0ARMV8/18YdQA1OIT/sgbk9K3Qyvfb3Vj82iIU+M8u+PrvoyD+blYc9T3maPxgeHkD1SAdADkNrQGoKUkBozI5AyRyJQAKpYEDxWk5AzhJ7QLrw677Xr1NAhTWmPv3mh0A5D51ASW2Mvg3t7b+zVk2/XjYHwKWBA8CV1Yq+xuMEwBp2yT9mQni/bU9TQMXO7L9z1h/Ak7IcwBck0r+kgTRA21A2v+OMVEDGPpk/LqVhQLqXdkCSM0A/ut3XQIc7fUClbnhA3RP4P5l9ZUCWhElAjdIwwG3cBz4LYki+juN1PTgaiL14mQpANEm9P2U+EkAiDp9AIqKuQHpmPj93PBs/sw0DQNTAQ7/Dkxq/292Avzw9j780Ppo+QLKMv+SnL8A103Y/dPwDv8odwL8bZ7m9FCVKQAv7rj9d8zw9VqVrQJCnJkBauB9AATJqP6bVdL+Jpno/rle+P68UCr9bebU+CT6Bv+/RNz55nY0/U/9qv7pBWz+RWI0/529MP0fdaL+XFUS/0cRLv9YrZb9GLzFA8N9Mv6eooD/h+0RAuKs4QOCQHkCm8LJAuHBeQJe7cECm7gBAMCIov1MPPD75SVhAmb9OQLxlqEDAchC/O4MjQN4UBb8HUes/JMDoP+MVmT+Rq5k/8ZUUQGtTI0C5kSVAAnxGP6LA0D9GcT4/D4+KQN6xlkBjUIxA5ETQQMtaDECoGMpATKQxv4VNp0CXCMtAYpbBPt1tp0DbPEG/67YWQIbrVUA7945AKevNPtdTe0D5tzpAPHroPKksh0AnCDNA+Y7vP2psiEBDEqpAL++DQA==",
          "dtype": "f4"
         },
         "y": {
          "bdata": "iOqBweAWUsGN6HjBtsJuwZWYYsFrdWTBaL+DwQmJc8E07HzB6hOVwTw1jsGlj3rBHj14wXmPe8FE34fBfmuAwSMfacF71X3BGqGSwdDBa8GRfXjBB26Fwcn2asFmv37BgjGOwYyIfcHPCVTBq9GLwdGqZMEMkVLBDN9awQyyZcG9AW3BLBVpwY8rasF9kljBuqBqwegwcsGxy3/BsXyXwbFzjMF2xoPBBS2FwTmdlcGfJIvBJMuBwavSi8EpeoDBZuqKwaI8jcH2xZDBU1Z3weWsfMG2xnTBATiDwZzafMGAUYfB7DF2wXQxn8GnnV/BZ/ZEwV2MisEVFHvB1/KBwaw1f8EHClzB2YJ7wUqAXMGFr2jBSC+KwRcpdcG1+4TBy6NnwYxUccGWjHTBD4xswd4CaMHEH3rBc7aHwYZxm8FTz1DB4fxqwXLsacGh8kLB21lIwfSNZMEa83HBh1xgwUnoi8Ew3X/BiodKwVyhgsFFyoTB7kiEwZamjMHKF4rB6PCMwRYIiMGaoZHBby2PwVN6jMGYWYTB5v+Fwfv1gsHpb43B8yl/wWrzgMGvaoHB0WWgwdqbicHHNaLBM6ufwVYDisHR+ITBkex8wZtjgMGg0HDBgUF4wQYUYcEmNWjBJ35lwUeFfMH8XHDBexB6wbN1esF6okTBJwd6wYwegsFiRE/BS31iwYr9nMFtOlbBw5lkwXDpaMGnt2zB3SFqwaHXgsHBZmPBxLZbwUi/VMHL84jBmqmKwWs+bsEwQInB/9uHwStohcGQxoXBAEOdwQ4VmMFjPZzBmsaFwd13isHUnIjBQ+lowZaDYMGSBXvBSbZNwQ5qYMGJxlbB66COwZ7nYMGhGVvBAmOcwYvIZsHg2GnBUHCMwXpQh8E/GJTBppGBwZxBYsEz9I/BaCR1wRb9h8F32Y7Bzo+LwRLKk8ESR2bBqOBqwQ==",
          "dtype": "f4"
         },
         "z": {
          "bdata": "q8EwQD076T+Vui9Al+GnQM2aeUCtpwG/aeqPv+0kC0D2zrA/MWONv5GbIT9246O65KWzP5AFij+Zt1VAV+AbvgQqf0AJynlAee38PvO6yz/xKdY/MPqfP25FI0CAKd0+J96xP/1+lD/C1jlAyyQYQADF5T9v5ERAmHyOQPhRC7/28JU+wpRPP58l/j/TKa0/f08mQOxzQ7+D5bi+bvvVPz8k2D8l1os/JkyAQFT6G0A5grU+NhCmPmUtXz/3/XdAI8nyP6dGqL4F6+I/jRuCP7CfE0AusBm/4KA+QI62IUAuyYS/t0ylPv68pT04kQRAdtlIPw+i2z9SFydAZeJaQIgx+T/UDmlA1kurQCG6W0AuwSJAx2W7P8URDUCMGItAHFY0QOSpJEB0l4hA4kvhP4FmhD+XWzBAL18Tv1VhQj9V0VNAptsRP4mSoT/YQwhAzXYVQFuLl0Cw5ktA6u9SQLa/nz+ZjydA8fAlvnoVSr9DoAa/zz6DPzCGeD39jEk/1fa0vt4YFL+w7Sq/71+OP9Mvfr9VNTVA+4PYPvKPF8Adnn6/SDgBv7sALsBnfjHAzEclP27nlT/24yI/DSDKvc50NkDt76a/MEqKPy0QYkAMr09Ae7mbQFdtpEB74rNAWXSqQMQ9kkBi26RAUsqmQEw9kkAyL9A/8Gu1QKKlHMBT0bo+nGysvUZjczwdsiFAx4yyP6KBxT8+hZ9A8uwiQIK4QUB8z4K+QGfEPsvIA0BOUNe9nvXivq2d9b7o3mu/jc2SvjWOoj7rLSs9SgOjvHh1lz+3HhQ+cDfIPjJKYL+YItA/Vfb3P1eBmT/pW0hA6i0VQEKppT1Vcsg/hVdgQF9yBz4NNbA/8usoP8D8F0AzOhBAjaEoPx/Nwz4E+gtAw7wWQL4jS0BpvEhALXoHQAqpjECiU0JArZZpQNTlC0AZwiS+9oWIQA==",
          "dtype": "f4"
         }
        },
        {
         "hovertemplate": "color=1<br>Dim1=%{x}<br>Dim2=%{y}<br>Dim3=%{z}<extra></extra>",
         "legendgroup": "1",
         "marker": {
          "color": "#EF553B",
          "symbol": "circle"
         },
         "mode": "markers",
         "name": "1",
         "scene": "scene",
         "showlegend": true,
         "type": "scatter3d",
         "x": {
          "bdata": "BbT6QPo94UBgxcJACdrxQJfd3EAJW9lAqzLVQGtx30D/yPVAOAD1QPDk+UDLsgBBktfvQNVcu0DsMORABoDbQD8IukCajs9A3BezQDqz+ECzJMFALBoFQYRZ3UBHI71AtbTqQGqzvkCKV89AAX3QQKzLu0CqjMlAuj2mQPP7AkGEPuZALXnMQBnozUAEK9FAH7YGQSpbA0FilsJAuQGgQC1/oEAWNaVAZfe1QKbCqUBWQky93Se4QE/CtkBLpsBAjN3dQJlknkAoB6BAXMemQCyPlr7yKVI+mJBQP5UefD/vxKY/8nCQP2kEjD8uD6g/HcZmP9fByD97W0w9B2uDQIg7U7+NUa9AWIy3QBa9vkBK5YdA56GIQFqqzEADpa1AcSvJQAavs0CGg69AZZ2hQF3Nq0AME6lACbYIQXLOAEGZK9pAJ59lQMzRn0AArks/oEqTQI4YzEAHY8dAdq72QAGK7kBAruxAEu6kQPBbRD+D1ys/a2N+P/jbh78AHB6/zyNyvu2PXr/FcQm/vGBCP273nL7YElm/qDh/v822hTwHUG9AYsqbQAkqAkGtRIhAVmn3QEtsxEAr0QZBaHDoQDkKAEHjaodAtZjRQLndAEFOlvJA5E3dQGfL10APfPxAwv6wQFN27kCb0RpBGkjqQARaAkHAVftA5XXwQGnP60B1jexAJhwEQTyAi0DVB/VAwPvaQM4pGEHdNQ5BdGy6QB8g/EDda9lAZLoGQYgoEkEGggxBXIkJQdbaEkFsHJNA/UScQLm8tECXo7RAyheyQEHUmUA8mplAjmKbQPpcj0Ai0rVAV+qoQKRsrEBDFJFApoASQU42+UB3Re9AEz4ZQZcyE0F99gFB9eQMQWsYFkHA3SJBxiAcQdNCDEEgvBRBHGgYQZtOj0CPt5BA2Jm6QCJ6h0AkWKlARhm5QKpBg0Db61dAnzyiQP+ukkD7JKtApZJpQBJ4bEA=",
          "dtype": "f4"
         },
         "y": {
          "bdata": "jALqP3A08D4rCWS+2j4tPhnd+L6mbSa/InkRv8Fxcr8tv0g/GKuGPorl1T/FmltAbtl6PZJOx7+9V7K9ROwQv+nPgr4GZzG/o5yzvhbvJz98zpG+7lmNP1nXAr+e/GU/EtQeP7W+ez/7WI5AvwWKQBHsiED4iU5Aewq5QLUwgj8e/INAUI6SQF5LjkDp0apAtuCoQCt72UA9r+8/viIJwIqe7r1T+UM+X7U5v8IOhb738w2/9vQMv9V16zyGPig/QtZUvo5FwL2nrH++sV/jvpwr6r938Qa/S11cv5SCPL9oCdG/7WD6vosV5L/SJZG/G4bgv2BRdb98bfe/ap9nQA1CI8Du9nRAi81CQK3QLkAmZnRAw1twQGmi4EDUJhtAucjjQDIi0D98hts/ZhczQClNF0C+91VAdO/AQAwf8kBrXdNAMp19QN+PhUDPXeQ+ORzMQDfXK0ChCIdAwpqAQHTxjEAfm7JAKX7PQKTvJD4deo4+HSu5Pv3fGsB4EZS/Bv9Nv3RQBsCJ+JS/itLLPWotj78TGPW/A1f7v13kFb+LeqBArlWoQEGAr0DLXJlAufmMQI0X/D+1YbNAki9LQFKUw0C1GbRA4T+uQLxZP0Bh53VAvyCYvnADE79iXwc/NPCzQA8y4DzNBbRAq2hOQGDuuUCyKB0+VV5qQGSuXkC1YOU/nPAOP62/SMDi9Hk+Bx1cv3YSp0BxQsRApTC1v6MCu0AsfTm/D9ntQBQEzUB7xbtACiGEQBUrgEAabS7A4isywPAix7+pg/a/A4IQwIY3PsAxeTvAass+wBcTPcC3hMW/dkoiwE8HIcDfJ0HAzQSiQChDBkDoB+w/TdzSQM/3jEDv9wZAtqGWQITgmECsrrtAPWbOQA7ytEBGkdVABz3XQLrGPkD0eFFASeNKQBlUWUDzuoNA66F/QI2ClUAYzYRAZP/oQN2wsED7TF9AFUeHQLickUA=",
          "dtype": "f4"
         },
         "z": {
          "bdata": "jHQSv3tpLEAhpQ1AFL/3P/0xXj/lOMA/DilZPpPOuT/G8S8/FAv4P/4A874sXa/AEk1WQAdYkEDba25Awl+PQJTOYECSII1AXyI4QCRUQkD6s2JAAptdQEK5kECGCCRALzc9QCvgOkDunU7AbmYAvyU9tb/ZLMHAIRS1wA0/VkDukojADzGUvxcyOL/sS0jAAOOtwDs0aMAeDKzACv9FQP6IMj8WkwJAvMcJQAL/5j5hk5DBWgkIQMQTdD6x/28+kLnuPwBiqT+td1U/8cEKQCqKicHzGI7BOUCJwWIrjMGkDIXBx1iMwV83h8EO/4XBcXOHwQjUhMGGrYfBncfFwO6kh8E6IFfApdi/wN/Du8CfniLAK5EowLLHccDadmjAKt5owIzghMAOG5rAJraCwKZeWcDBfDvAqoxxwCY7icBTw23Aoe2lwIDrjcD0sJHB8x5ywJ7szMDaEEzAgsxnwFYwnsB+d27Avh1TwBbIkMGAWpHBFQ2Swbn2iMEkrY7BZqmPwXESisFbZY7B0rOQwcSEjcHEnIrBueuKwXnnj8EZe6DA2GKowO1/lcAgXXPAC9ebwCZIhcD70JLA8QyowKMwmMBNl17ASjFqwKwogMBGaKDA+2XMPSFqGz9hgTPA0nqBwJCHsL8CqYHAbs6awCRpfsAG/AHAvMCLwAtnjsBBwYfA5kdqwM8fIEDtUPS/JCKaQO45iMCVMIfAOIXsP+YoaMB3obA+IHqUwCvKZsAE2ajAvLeOwL7gh8BsrSNAR8tZQN+BKkCYI4tAVNKRQALbcUC/XHRAx0SJQMNmKkDtey1Aqf6BQNdakkCyr2JA4yk/wH/KpsDaAKXA4yOGwBTHfMAuoq3AQ+qgwO6NhsD5K4HAf/SLwAr9hsASX4DA6DaEwN820MCbVXbATijPwG+ayMCEcYLAHInPwL31csCdi6HAUJWQwH1iZcBW2bfAC5KfwJIfn8A=",
          "dtype": "f4"
         }
        },
        {
         "hovertemplate": "color=2<br>Dim1=%{x}<br>Dim2=%{y}<br>Dim3=%{z}<extra></extra>",
         "legendgroup": "2",
         "marker": {
          "color": "#00cc96",
          "symbol": "circle"
         },
         "mode": "markers",
         "name": "2",
         "scene": "scene",
         "showlegend": true,
         "type": "scatter3d",
         "x": {
          "bdata": "aX9yP7Ahi8A6/EPAdISvPWanjj+Be54/lniBPwsctD9OWNI/sF2Bv4pkJ8D9XNg+5yWyvSql/b6LOGG+OHyWwBo/t74dNgK/dtUWP9C7dr7Qt5bABXUxv684/L7711Y/Nj16P9UNV74zRFHA+z48wMT5FcBwnnu/XV+qv4HxS8CiXhjAA4YzwD4HsL/rnti/TIdGwLWdqr83PRLAYox5wK5FtcC4vCrAv3quwGckjsDJG6XAroXEwFxrg8DZ6hPAYpKFv4iU9L9XVB/Aqk6MPnYz3MAiarDAfiW3wNsOi8A/QorAhZabwOnWicDhj7/AA95kwPDuk7/9gpfAmEV6wKGuh8Bh+4K+T78Fv1Bp8L/dOojAiJaXv5E5j8B7fpHAIeFqwEj1mL7UIhU+/amHv+L8jr81226/i81nvxBL9r/qT8Q9695avxkpgD+WXIa9MLCMvy0XFj9oszg/sQmqwBLqOD/LlD/BWFegvyVuMMDCCyM+kNp8wIShhsDHC8rAaeCTwL/0xMARxLzATVQ0wF64jMAPBdHAaMFCwHAr4r//ZlXAUFXCwM690cDqG77ASQ3BwHQi9sD4m4/AhlBGwHJ8V8BTHd3AUOWTv7SpY8DYNhHA6TeVwGlhtr/5gnm/VdVTwJg2b8Cw9afAqZ06wFgfdz4E3OO/SBNmwCla1sBjHvXAsZrfwGhe/MAoyQbBlbANwczm+sCFq7XAWD8UwWZmscA4Ue3AnY/NwFqH08DbBKq/kEcKvwTS7b8O/2zAvKnmvxA7FMDFAPW/nI8CwJF1GMBUOws/zz1RwP0WqcCppPu/kqxHwEdMEcGxoNPAkbgZwUgphsDEahTBsnSovnh/EcGPbzm/WZLlvaFH68BJq07A2ijMPaFTH8ADwgU/kd/Sv74+yz79xMK+FS8NwOC3AMAPrh3AMDhowI4EHsAmdn6/",
          "dtype": "f4"
         },
         "y": {
          "bdata": "Y0j1QMWKXUBudqhAX4L9QDNjBUH/FAdBNnL5QFlgB0EbtQpBAKPtQGpgrkDtlAFBfs39QLKM9UBMjwlB/o7kQGD/zkB9ggNB53vlQDIXrED+YeRAV1bgQK818UDMOOVASw3tQOU7yUDcwAZBzoEAQZjUFUHIlRZBOHcHQceRAEG9WAVBL0kDQTvyGkFOCBNB/XkSQeeAHUGAGfRAzwOGQAJIX0C9z3hAUkRZQG8Ao0C3nJxAHPVtQCuvW0Cr/6tAV52YQLnns0BsF45Ab8PtQB/CgUDyv/E/nIMGQIZIMEBWkh9A/ciCQPKKIEC7NjhAQkUEQfH97UBrUQ9A6EDtQKacIkAepwVBx7fpQHF2AkE3dPpA5R7sQCM//kBz5vtAICL8QKjy1kAkRRtB6UQKQaH3DEHKLwVBKpQGQVXa8kAl+RNBILDtQCCB90CXOhZBXCiiQHMEEUGMEv5A6KgBQTOJCkFp2zJB3iYMQf9X40Acb7pA6xPUQEqlwUATk4xAtVqQQDLAokAw4ItApXe5QGtHjUBqWYhADP+SQOmE6EAeBKxATaWYQGrMs0CPKaFA6/9xQCq/rkA/sqNAYHWXQLZKqUAYLohADmUAQQs91kA3GQlBXxTxQPC2AkFq/BRBRvcCQV8IEkEvCwFBAvwdQWLqGUFt/B9Bf/EUQUiFvUBCPn1AfautQLRnr0BH5qJAUSeRQCpyo0Al5aBAzPCWQPGMiUDU9o1AkuifQK5ejkDCeqpAuUiiQD/FrUDrb5dAr6acQD6NkEDoH4lAGiShQFWQk0AuTs5AqWirQOF610AsiohACvikQPDRkkAxDV9AcVeWQJUbyUAhOZBAD6kGQSr/kUBCRwBBmoGjQOCpvUCqpbBAJL0JQSDY30AT4stA6T+zQAgrzkCrRpNA/9POQOEQ/UC/OeFAiQ6UQP6VhkBMo3tA",
          "dtype": "f4"
         },
         "z": {
          "bdata": "Bqr+wBpCecHF9WfBkcMHwf6eAMHiDADBDaX+wPvC/cCPZPvADcWMwVMHTsGkXQXBX4gJwZ37f8EFr23BCsFFwa+kYcGGJGrBqJeOwW9ud8GJ8z/B4+NmwfAed8ELj4/Bg2WOwZZgYMElAX3BFqJ9wQYKd8G1toTB7dVqwf+EdMHkdYPBFgpvwYAEfsG+lWzBE2l3wWHxfcFx5oXBjBx4wdgwg8HtxIXBJuqDwRSrhMGsa4XBXWuDwSEug8G1boDBFnCIwdLGgcFF0IfBE/gCwX6WVcHaiWLBnO1jwVEtVcHsGFfBHBZZwS5eV8EvM2bB2quBwSojk8G9X1zBFvVywW5UVsHzg07BmLhLweHHS8HbUjfB0TBEwdU3LsHJ0C/Brq04weByUsF+OYLB8CFKwV4FRsEnh0/BExKDwTxLiMGwB4PBXlZpwVffjcFg8H/B8TKLwcjihsFDa4zBJSNMwQpAicHOPi89EBJUwXN0c8HntZDBIfh6wfwvgcFSCm7BJIZvwaosa8FgvWvBa2+DwejtZ8GQVWrBAYSLwQ1+icHdlFHBRo9lwUR8WMHrjGLB6fiCwRcMTsFrpXnBAKmJwWIgUsGoUlzBeVKGwZS8bMF1uUfBiNhZwWgiTsEwmH/BksdnwYyuZ8GJrU/B02Vqwb0YgsHxHXjBbYxkwYcWT8G4g2TBE7dNwb+YTMFNRk7B4qBdwXyQTsHqvYHBXMtZwfpAYcEHOEjBAMpnwVCCVcGWO4nBotKPwej+jMEiGZHBzoCJwddGkcGwbZLBxgmOweowkcF+TpDB+rKOwUyYW8HHvZLBs4ljwThracHL+oPB3qNZwSkIfsEBi1rBlRJVwdsVZ8HK84XBnqB6wf2AT8GxtYLBzl1PwQInNsEunJDBdfmLwbFtj8GIyZDBEIMuwUVQQ8FUlTbBzn2RwUg+icHZD43B",
          "dtype": "f4"
         }
        },
        {
         "hovertemplate": "color=3<br>Dim1=%{x}<br>Dim2=%{y}<br>Dim3=%{z}<extra></extra>",
         "legendgroup": "3",
         "marker": {
          "color": "#ab63fa",
          "symbol": "circle"
         },
         "mode": "markers",
         "name": "3",
         "scene": "scene",
         "showlegend": true,
         "type": "scatter3d",
         "x": {
          "bdata": "FSYqwYyFM8Gh9DrBhog7we3+F8EZ2DjBID07wXnxIMErbzXBkq06wUmzHsEbdCXBNZitwG+gLcG/LkLBhkE1wXFpI8GBTUfBov4zwYlMRsHFEDDBkLI0wbFwNcH7GCzBRZo+wYJPPcFRQSfBZHVBwTVGScGvKkjBXMgmwRWdS8HyBT/BTYg4wQPNQsGJXzjBiT8eweGOGcH86kfBiE4kwTBiQMHMCS/Bl/VLwdlbKcGFOSXBKZchwYBZJsF4tybBrfknwdgjKcFg1SvB/PkrwQIyLcGv1hrBCygYwXSADsGI5h/B9uIhwaNjLMF3yQnBxmAawUpcIcFX8gzB2UUQwWlZH8FyqBzB/3BSwculZcFrnELBi09fwRfTXsFq/VPBXmJmwYzzOsGasFzBkWtswZKGC8FpwAzBYjU4wVn3DcFUqCLBBiQowZ0GF8GPvg3BA14Lwaf6NsGUiS/BtBMyweLMHsG6Ji3B5dAYwYn9FcGwKELByvM7wQvdPsEjyUTBiVsuwQQhPsHKvUfBzHlMwUdHSsFZjELBBIlLwS6fIMFadUzB8rhPwbYUUsExvFbBwAJdwQQ+Z8HaclfBWW9owZ/xY8Hoh1fBnWpXwf3/JUAxt1rBzP5swdnhX8GKWEzBrhtiwTz7wsAk1WLBKGciwSL9NMFrzVTBlyIgwY8oL8H80l7BFI0zwch8H8GstkfBTmdYwdsFSMFhwFLBU+kWwcokWsF0R27Bp9xpwRjqScHR0BPBB1Eywf5PYsGeo1vBtWUfwVd9NcE5sR/Bf9siwXhsNcFN8C/BCZQ8waToQcEcNi7BJ5M0wbJZIcFX1S/BwlonwVKdHMGYHU7Bye8TwZofwsBFPsTA4TCxwHiK2sAGLsnAZwASwY7VI8E3NQPBrFQZwVqaJcFhYQ/BPXbxwDrL/sBddMrAI2D9wGCd+cBwcBHBhlTtwAlnBsGLcSHBqXwywee+/8DKOyDB",
          "dtype": "f4"
         },
         "y": {
          "bdata": "l1QqQAUw5kDk+R9B9VbqQInp+EDgzPFAi+ACQY+aDUEanRpBUEsIQVmHFkG1vBdBdYUaQQ34J0EYfwVB3dgfQecjBUFxFQZBj/MTQeSgIEHHBQxBwUUaQcCWHEHxyhBBrgEjQYDwJUGxQx1AfaWqQO7BeUAKq7VAM0iDQBu10UBAp5JAFYObQMzwrEApQ8xAkMOBQCOUhkDlhG5AfnnbQCj04EBsHEw/TTY+PnMnTT+lEPA+T5s9P6k+Ez/zyGM/CIWCP2RGnz8jUQhAgGkSQKayvT56K2E+CV6qPxv/rz+Nlik/Y5uYvZPITEC3cr0+SnAQPxkFgL2ceYQ/ppWHP3Jgfj8jP4Y/bHnCQGqbxEBMr7tA4JYCQVNvy0D1V8ZA+nbHQJ7btUDMyM5AWDfQQMbpVEDtQFVAdXC1QHjkg0C8YpJAr9yIQOPpk0CZF5hALBycQC0gBUElIQVBq+y4QEl9aECc/ntA3TpSQAk60kDf2uk/u78HQKImA0DOZsk/SggvQJ/4EUBI1IQ/IjkZPwOnKj/KCAZAYZLHPqVaTUCUcTg/hcZ4QBVgcEDb76RAW1LUQHwDpUCLl9ZA76KOQAvdqUDrKIlA8lSMQDDJCEEw55NAVqKYQLw/eECJWd9A7Se9QDqQFEFFycZAcLfsQBSZFUFBCepAJdMSQQnKAkE2JVZAKQ60QNvXFUEM2bJAKj3eQAo3H0AmpIlAbHPaQPqC0EAtAq1AwXCYQEr+jUAPPfZAb4pwQMJ9uEARNHRAvaADQGanyj9tL0VAjg+NQAHIBUBguDVAw1LmP4z2c0CqCT1Ar0ieQEGCh0DR9lVADyxeQP3+7kB0cwxBk2P4QOsJF0EbyRNB1zwaQcoNKkHn/Q5ByM4GQdZ09UC5JANB35brQHPK7kABXpFARngLQUtkuUAFihNBIbANQXKNEEFPc45ALfsPQTXpCkGOf/VABiWhQBbJt0DoN7dA",
          "dtype": "f4"
         },
         "z": {
          "bdata": "rszNPaqGvr+M73+/EqOAwDt43b/U0W7AEetQwEgGKsC8BTPAU8w3wIQoB8BRJirApm5hPt/+GsDc1kXAJ8Hdv7Zjnr/LzD/AnOp7wA7H1b/2QG7Aur01wPvzScCaQErA9An7v6TFF79b77I+H221P9YyF8Dgt4Y/+p+6P3wPyD4iWz0+5nkEPxS6jT87UVm/+vB8P0Qgkz+ddCfAZluUv36wEz72nn0/o2YRwN8+x70Qi/y+SodpP16cZ75eV6g/QpxyPx1KsT/RhwpARL3MP22e0z+dsaPAroKuwD/ax8DSm6XA7qGxwNTXl8CN/bHA6ymuwHUqtsBqsa3Af6i6wJxlqcBHEqrAA4GsP6y2lj9o8PI/uyonvlWhFD6vF4Y/OQ9CvkXsoz5Vj18/lRKwPh+vzD8GlMw/opriP7LT4T8DHvQ9qFDAv/Xi+b9E1rm/GfnCv66VAD/Cwac+5IwCwObKtj4NzCW/bvREv5JuIsAx3DfATShXv45AQD9LWEY/oga/v8Ieh79L7kjA2aeXv0pYU8CEDT7A5n0gwPRw379f9Za/PgpBwKANVcAQqwvAAz23v97M0b8t59e/5l9vvvzxzr+U2DLADnI6wB8cAEH2hkbAA98GwG33DL/kgrW/8zpVwE+Fhz/9ZlHAe0lxv3ijVr+IQxLAvdGev2eS8L9Yfoi/9YELwBE7m78r4t2/2Fr8v2qV9z5j5Ie/k/ghwE9PEj24CeS+y/9uvuFdmL+bwIW/5KQBwGM82D4bRYa/fmkBPxmm5z5J4yk/l3YLwGFogj89MA7A85auPvL8nr9K2Dm/YxaQPk2jI8CBDjnANy0Fvx2dSMDZUMu+mXaevx3w4L27Mha+gYdHPrziXT4x5di+qn4CwGJGTsAp2CzA714owBp5OMCeniFAv1ENP6T5OUCxv5o/Rv1eP+d5oT+A0kNAgzhiP1kTwD4rl1G/DPHsPwhnOkCB1g2+",
          "dtype": "f4"
         }
        },
        {
         "hovertemplate": "color=4<br>Dim1=%{x}<br>Dim2=%{y}<br>Dim3=%{z}<extra></extra>",
         "legendgroup": "4",
         "marker": {
          "color": "#FFA15A",
          "symbol": "circle"
         },
         "mode": "markers",
         "name": "4",
         "scene": "scene",
         "showlegend": true,
         "type": "scatter3d",
         "x": {
          "bdata": "rB5SQdtkUkExmEVB9b5aQbeuY0Ezn1RBsXw2QePWTUF3vE5BYnleQeQiWUGPzjhBzqNdQUaLNkHMtT9BehdIQQeFTEEIul5BOb9ZQUmxRkE6O0ZB9X9aQf3WREHolj9B7oVAQeHtV0EGO1dBtnBsQUVxeEGaFG5BXyp7QYXQWUHvU4NBvF5FQXeEjEEUt2dB4PZ0QedlWkG3S2NBu8l0QUO0WEGEN0lBZ/VoQdwzWEE060FBc5BsQVTDV0Gs70BBbXdSQQJPRUHD42FBh5dyQUrdY0GY2IZBgrSAQVLfekFswWVBWsV0Qc5nf0FOqYBBmeKNQU80gEH8H3JBvgx3QWQ+SkH41U1BiyM2QYVyQkGcBT9B0S5TQQiFVEFAFH1B6yFAQbGajkFspT5BvuCQQSW1P0ET3Y1BzGh4QeJWiEEK23tBcLhvQWEwhUGpY3ZBczeNQSnxkEG0F4dBUKhwQdoyjUHhNYtB1ZFgQRoxYUG1tDtBVTVAQZvjM0H6ojxBPI+RQeIEM0FonU9BdylYQdJ+NEFO6CdBb5s9QSspMUE5Jy1B2o47QWhdLUEpBT1B6qlBQQBQOEGPAzxB6yhZQbZuYUH1FjlB84pZQQqyOkE0/WFBksVuQcE6c0EzkmRBi2iIQSczW0FYcGZBFG1nQQbwg0FbkYJB1INmQffVbEFR7GBB82OOQYhHkEEY6pBBDvOLQapKi0Hvw4hBXJmJQRUwjEEDVWZB2sxyQWHvcUHJUG5BVBeJQdjPbEFlIoNBFyV2QdejZkE0cIJB3o90QW7EfkFe/nZBCZR3QeobfEFihGJBLvd/QRfzbUGArlVBF+hdQUdJYEEr/XRBBZpYQYaIP78r/zu/5Jl+QZW3WEH/slhBdQ5eQewgQb8PEWxB1DVQQcA0fUG8/XNBLsR6QVBbWEE9yFVBxetfQSN9g0FmdEpBdVVRQQN6f0GiI3NBIB1wQQ==",
          "dtype": "f4"
         },
         "y": {
          "bdata": "SS/bvzk5dj++zdW+7BnKP/E2sL2/uSZAVNePQHkuVb5tbQq/iStqQJ6kM0D/zI5A9ZXZP/l9aUDUzFhA6WQcQC7VN0B2fuk/Bh4AQKXlQUD4izNA3qr+P04BBEC/VbM/lPlSQGmgQUBK20xAURmCQJSqjz85PERA2yV+QDqHUkDARUM/OtGIQDvNm74AfNs/ez1aQBGpyD/TyuE/jmtwQEHPBUDTXxBAYAM1QCR00z/qSFa9CG0zQPIrG0A2DOM+8VWTPyRRmD4a8eY/PTTDQPZczEASaoRAqlqeQJrAhECK1shAuDXNQBQKqUCcSrpArXSdQEvReUD+idVAPVLIQNyNLUA8eTJAe9dvPkCbOECegkRAkDgaQJ18MUAZ9cRAZI/jQE51nkCrzddAQxSJQAo83EAjT/0/LATvP7q3UEDV1As/3YE9QPkPNEBGTcG/FT0jQGwMP798vkRATfVMP6+d+j/EiUy/aSyhv9Khxb/ODS6/vdGGP1Yuyr73+Ti/df4RwOpZv74DOhDAVS2Qv56xjD/Rwfk/M39CQGkJCUCZWuA/XgjmPwN8fj87ajdAd9SjQJfmFECf3mxA+iEOQJuigT6ihRFAxD7YP3sfe0AIWQBA2sPCvyQIh0BZ1r+/tk07vw7nZz9f0lc+F9ZqP++xKT+8Cuq+35I9P+hrG77x9ntA1jDfv+VNAMCnpgPA6kXLv40D97/XMMe9lATcvZISBMDZqJk/GB5vv7Y6O7/z1Oe+GMuyvYWAxEAvGHhACFmUQEiwDkCtzolAcQdsQH/IT0A4CppABBqPQMdoZkCqHb1A7GKAQOdTLECGw2BAcY5AQB1SokDYKEtAu4GlQEjiKkHB1ipBrM08QI1OXkA4ME5AQu+4QMFDKkHvXT9AcOIxwDaGZT/o18I+SHoJPzA3lL6HSRbAswkQwJHwS780jgK/e/nWv6Fy+78t0r+/LC8VPw==",
          "dtype": "f4"
         },
         "z": {
          "bdata": "MOGtQIdb2kC2D5lA7wniQGVGu0Cc3CRBrYrZQP+apkC/sqVAPdglQQwfHkFRLt1AJG/rQIxtHEA+/eY/1YQoQIKoiT9NixBA0Z84P+s2yj+TAeY/LXpRP56jAUDdOhFAakXvP2VMGEHXv/dA6HMPQYVp/UDwNwZBJf0MQa1T9UDKcutADTgOQSpKxkBpjQpBMVMIQS4p60DQqMw/aGxsQG5QNEDiFYVAUTpWQKVJL0D6AIpAv8NOQLMqVUC79oFAaGRNQPSriUAWPq8/b4TLQD+k60CXQ55AlPvSQNm040C6CeFAdVDIQOPHx0AbQM5AfcOsQA5V7EAvrshA6HfXQIJRQEB8rS5AVPhrQJMehUAkvJZAmPs6QNoMUECv8NFAU4gCQYFHqkAXVgZBSgm0QEaqBEHeIqBAiAidQCccuEBusMxAo16oQCHpnkA22tFAYMeiQLUGsUCSpqZAjvWmQA2QokCQZrhAwkPhQLHE3UDK1u1Adb4QQSzW+UAROexAlKrQQNG1+kDwEc5Ay5boQER4DEGPzRFB47kRQREGEUGPFRBBltsPQQ95C0FM+BJB6MUTQSTiEkHuaA9BCqcTQT8KBkGLMxVBKCcMQWohDUE88f9Aq0nLQOl0zkCy89dAcUCzQIo2BkF7btVAvZbWQMf45kDv495AFWEKQeEZtUACTCRBiCHBQBPrw0CZ7cFA1UnDQAy0v0BDO+RAJMXqQNZGwUAtcedAvAKdQJvEnkDOMJpANC7nQD7zwUAkbKZANfa5QEviskB3j6FAPTS1QNqFrECCgL1At6q7QEwYrkDuLutAzPOnQAYEoUCOSQVBiN4SQS0mC0E2WAVBq44JQZxFmD8+e5o/zAcFQa4U/UBN+AZBOroBQeddlT/MTQxBZvWuQC6p/kBkFvRAKZQPQTv5AkHV9r9AMzXCQKi20UBBbLtAj42zQI0hxUCrkcdAva3DQA==",
          "dtype": "f4"
         }
        },
        {
         "hovertemplate": "color=5<br>Dim1=%{x}<br>Dim2=%{y}<br>Dim3=%{z}<extra></extra>",
         "legendgroup": "5",
         "marker": {
          "color": "#19d3f3",
          "symbol": "circle"
         },
         "mode": "markers",
         "name": "5",
         "scene": "scene",
         "showlegend": true,
         "type": "scatter3d",
         "x": {
          "bdata": "K4A0wbxmtb8fp8k/vvOJwKQ7Tb/apz+/UWkxPvOXjMA46a6/Pu60v1jtJz3aU1U+5mM5v/dGoj/7732/NppcQCY/hL341ixACnUGQCPWfD5G/lE/nUFWQMhoEEB7gBZAONMjQNj+5T9rpNPAp76/vsbcncBsrL3AALGCwCilxsDIDcLAiYwCwM0LvcAlx9nABL1lwBwkoMAXlZ4/ZdeSwB9bLMAoGTzAztefwCSFPcAfZrLANGxTwAFf1MCwiz7APA2EwP6kMsBM+ug9mAtBwMTc38Dq1OvAzJ/rwI8lr8DurPjALiL5wFtN4sBDHMvAm7zzwOt6/sBM3b7Ab0XkwGe/6sBWg4HAVl69P/vZxj/lxzfA7CwtPgTmBUCTBSE/BPgewGTkIMDV4HHA7RlNP25+xz/VRGhA8sqKvzxr4D+IL+g/FFMgv1Rqvz8XEWm/NG2mvvFAx76fxhc+ccqRvxHi1D/77gnAIeC7P/9ZtcAckv/AwPkJwfRb9cDXztjAb0cFweKQCcFe3dzAp4ftwHmuo8Bdef7A9UkCwfT8vMBWP8G/ne1QwLbpxsCBqPe/JO8XwKdi6L+4HXvA3J9hwLvuXbyIN6K/un9XwEBbvb8w0yjA1KRGwIByfMBCXhJAqf90wAuEEMCKTJm/NdklwC6j3j/cB0bAarb0P0QGE0C1km1AE/FePztDtcCuf4zAATIiwDXoMcC7xgLAgVeEwNSnMcAzoTnAzCjpQJQ9BL/OIRLAsq00wLxplsAZM8PAldq6wC8fx8BDxLnAACS1wJJLucA4DOzAb3irwIJKOcAqoO7A3QgHwcynoMBpoZrATIaoP3N3uj9ldMa/nszLv3InMkBheKI/QiNaQJF+kT8Qs6G/t5HGv8XXhz0whZQ/EBHGv4eytsDit53Ax06hwOh7jcCdh63A+3WNwKOlo8A6UNrAbFSmwMwazcC/RprAt1uUwOYr2sA=",
          "dtype": "f4"
         },
         "y": {
          "bdata": "PSBUwF2pRMATH4vArIFVwFiX3b+a5um/qYTuv+HXZcBiuJPAyUqWwNTlfMAf8wDAQW4LwBnpGcATc9G/xCxcwH0BEMBK5ELA3T8XwL0XNcDk3DbAgmpDwPnlAcA+PC7Av6kOwFJMFcBdpy/AkCtpv8bHdMAjpkXAMuicwHOqZcA4dTjAsKSawDtvVcAep2jAEvJywBCvcsC8/sW/sNeqv3D/zr9i89C/ZTOKv86kEsDEAsG+Tc2Uv2DnhMDVxxbACg4MwCm/DMCohXjACIu3vyCjrcCS3bTA2nWTwIolUMBfNZvAI2ecwGPRmsDGpY3AeV3CwLtQj8Cij5bAzbCuwEVBs8CTYvTAdo6bwHJ4lsCHnQHBbdCAwBx4icBsx4LAbpLjwLh768CPu8jAT5J3wFW8j8BvzXrALcHDv7n/5L/eIBTAiWHWvpM8ccA9EKq/vtoDwO5pG787K6a/GC+pvwzMNcDnZMq/03wFwFwBjcBsEmTAYnZrwHUJW8CAtl3AnZNiwNDPH8BAq03AaFBlwFkZZMBA8UbAIHlTwDMIZMBTA3/Aq2Y4wLmhiMDBZ5HAOoCBwDeZksDxaG/A1qq3wGU8fMBN2ZvAiZ/KwDuXdMC1MMXA7lq5wLPWysBfWwbAto+UwN1Tz78HVtW/4k/gwJetk8BvJa/Asge5v2aH77+YroTA3ZlBwLbKocCDzIfAVsS9wOQXk8AuyKDABb8/wGCsksDIvcDAHs3bwGORqMC5s1DAW/jRwOOFS8AboJ3AnRaRwJt/ZcDTPJHABKCNwFKRl8AzmWrAHH6bwAguncA4+2nAOtd/wPgvp8D0T4vAWd5fwG+sisDEgmrA9/UgwJ7O3b8Q7XvAP1IqwFQjQsAvc5HAtxd3wAiYiL/+eZXA2HV/wIsG0sA7BNnA363mwN0dw8BLVZ7Amy9vwCbV3sAyea/AsXTowM5nvMDNltTAa3fgwLZyysA=",
          "dtype": "f4"
         },
         "z": {
          "bdata": "0FQZQLqSbEE7B0tBGhFMQWnKL0Hr/y5Bht0xQfY4VEEItCNBA0c3QZicSEGtg2BBBCwoQR3lXUE8TFlB4jR0QZa6V0FQ3XBBKVpnQShuU0G3kVdBxtB1QZZuYEG5mFlB4V5jQSqfUUGLEyZBK6NiQU2fL0Hv7zRB/+cDQdMIzEBQyTlBJTN1QRRUOEEsxyVBFco7QW5NCUFG83NBvXI5QbwEMEEqTjBBhHA4QdKaKkGfoDdBovItQZK/TUEedytBTkVEQYEVLkF2B1pB+xQjQa6GREFq9BhBBQorQaCSTEEVShlBZckjQa5AKEFzwy5B2I4aQd/sGUEIKitB4ipJQQoQHEGlBC9Brk1MQRUzUEHGsipB1kVrQe2bTkHI8ldBC50lQfrzJkEtwBdBnE1YQRwEZkEIInNBTFNoQQCUeEHCl3NBrXhNQUN7aEGV12lBfCRfQVdcTEE0wU5B2rxRQbi0aEHos1BBJJxyQXURLUEsOQxBC1rtQJ029kB2+BtBJS7zQMPZ70B8kBlB3k8FQRH4MEGUdvxAg1f3QI1ICEG1wGFBs5VeQVWuQkEuKlhBKChxQfcSWkGH2z1BMdBGQa3+akF9xTxBAj4+QeMIZkGGWztBsFkRQVzKFkHPU3NB5C43QVjPTUHA4WpBaIoiQVw1WEHcYiFB9kN4QUEOZEFhM3JBVstQQU1qCkH16x5BREQnQbGIIUFgsCVB0OdKQRHEHkHgChdB26vQwOvzN0HmTUpByJMOQfgjU0E6oyNBlioIQfd5y0DyHQlBQV8KQZAjCUFXcBZBEiP8QJqOEkFXdBdBeQ75QEhlEkEijClB+PR0QZPvc0H2jGlBuIeCQfIDfUFZm3lBajN6QXRbdEHQQDVBUPB5QZGTYkG6inNBkqZ3Qd6aLkEnvzFBdlI7Qc+hMkHz0kdB5cJUQe5JM0HF3kNB/7o8QdLTJ0G5DyNBwx8/QamyMEE=",
          "dtype": "f4"
         }
        },
        {
         "hovertemplate": "color=6<br>Dim1=%{x}<br>Dim2=%{y}<br>Dim3=%{z}<extra></extra>",
         "legendgroup": "6",
         "marker": {
          "color": "#FF6692",
          "symbol": "circle"
         },
         "mode": "markers",
         "name": "6",
         "scene": "scene",
         "showlegend": true,
         "type": "scatter3d",
         "x": {
          "bdata": "VdWVQIOnNkADg6hAm3UVQCJgskCGmJlA86mlQOUADkGxJ55AMhJxQIlOj0DUnrRATs5aQBWn/0BECCtATKWEQIjOEEF3g/dAopR5QI8t9UAhcAZBu4oLQeBjSkDGJZFAgQfvQB/GAUE0IeVAbGAUQR2LuECzHg5B/yQCQR9SAEHxcrJAs1aAQO2yDEEg8rhA1133QLElA0FEPYJA3ONQQBXfHUAE9idA63IGQZN9HkAt32RA0GYRQFASmEBo+us/qB71P38XR0BTNbVAx4WlQER/6UDX0cRAipLCQDPbu0BqUdhAUUWsQHJN6UCmA9hAcGa6QOy7o0BdrKxAz9uzQPAm+0C/j/lAiCL+QJzxDEHvJw1BJyUPQfAaq0BsaR5BBg31QFIsrUBwLw1BSCWeQHi2nEBESFRAqY1cQDR7LkCyFbpAGbZNQFs5YUBYLLlAtIZOQD+Tw0AxkSlAxU6tQH7iCEDUkBBBIW0VQYVYG0EirxNB8H3tQIlAGUFTG95AcjH1QG56D0FDyQtBTmOXQAvitkA/vQVBn3/xQBdnFEHKM99AAtThQAf9RUBl7ZBA1sbrQOA1hUADlLZAqR2kQAcS6kC9AqlA6EytQPNCzUDfiQ9Bh5fFQEQlmkCtUbFAKvcUQOSji0DUKZFA1iiZQEEhkkACiYBAtDR8QM85kkDytE9A1izTP+EtD0DloRRAqWAgQKRDLECnyTBAO/wYQD97OUDGmRhAh20VQKxYJUADUp0/V7kWQP+s40BUw+hAY3QHQXYs7kB7afBAHKgCQeW5IUEOC9VAMTvfQCDQzkDCc8VAXpbHQAKAnkCfjHE/3sCzP/WDOEDexhRAMx25P2k1PUAVOBxAUlsAQHayvD84yPQ/p2RzQIuRC0BY7j9A8sThQNChu0BUP+5AkRv2QABtq0DXisRAOi35QMCsE0GMY8RAnpqfQCul10AkmndA9GHWQA==",
          "dtype": "f4"
         },
         "y": {
          "bdata": "q0JrwHgexcB9P1fAzAKuwNwlhcAYNNDAr8B+wHCXp8Au9mvAfo6XwIeQG8DkDFXAsbdAwLD/5MBroPvAKCqewFSQv8BnDaHAkBKvwFvCnsCIksPAFcKgwMQ2rcAAjQPBdPEhwUzTC8GM4vnA312/wKtg7MCGURXBFmbvwPg68cD0SfrAc1O1wG1oDcH5IPbAVFvxwAkS6cDEKPfA3839wPET+MBfTgXBZmgLwdnJ98A6dPnAd0r3wLztsMBBVgbB5wYOwWq48cD34T3A79vBwO+n68AloN7AISqtwCAcjMCm9L/A4oS5wEsT4sBdG8HAg2SCwIYww8DCMrbAyRemwOC+z8CDTNfAR4bbwKS+xMA/7bPAy5YGwbNbAcG4+PLAuEjmwCkxlsBRagbBbwiawJqZnMBA8inBGWAwwcvuCsF+YCnBe9e0wPto6MDpgyrBWSArwSgeBMGP9hnBTd0UwSyzpMA7ouXAj9cAwXeM28BUlw/BKokMweNo/8CHIwjB6V4VwVjfBMFoHwzBiAzkwPiEGMF3fwnBrR8RweVYAsELyyHBme0MwX/JvcANI57AzcS6wH2aAsGCs+LAdA+KwMfkwcCV+A/B/6s/wNOFGcFmXBrBm8WgwIdf+sDoUurAKX8LwbWlBsHLVMrAo6/CwOyKEcFXvg3B2jMLwW1V18BwEgvBYC7vwLO35sC8iBXBdWAPwUmWAcEmJgnBaQEPwVGE9sDRFPnA2skTwSHh88DzGA7BD+sbwVABGMHQYx7BNSEYwfij/cCR3SfB1ukFwWUL6sAO+PPALnYYwcY7GsEECwzB9MsNwd9T/cC+COfAlLHRwGNqXsA7TeLAkBHowOOXqsBHUZfAet7pwHQf7MBa/a7ADXPvwIvRisCy5JTAKTeFwL61CcFA2KDAVwW0wDWzA8EOXD/AAhG6wBslmcDIl2zANiiFwDPlkMB16mjAmqMDwQ==",
          "dtype": "f4"
         },
         "z": {
          "bdata": "azgjwfSxSMGYdiLBh2U2wS7vJMEe9jDBA3MpwUduPMGPASfB3p8owReWFsFCRwPBFNkmwYTQEsFpKSXBe9UnwY1rLMFVuyfBTY8gwU6GKsEhqSPBhIg3wTBzPcF0MgTBwfscwVfmI8EU0irBqowywRhmM8FMHQXBtjZNweN0TME0e1HB2ARFwQESHcEAiTLBY6UswU3CVcHcZe3AR2rdwHmuAsH/uOHAgszpwH9JBsFZ2ubA0noFwT06EcEcORTBiEMBwd0vCsFmoeXARb4HweDc58AxJA/BjoH5wEW658AvBt3AbuYEwSr928DckdzAsWvswObCBsFquQ3BScftwLTOSMHud0HBM986wXwCJMFcyUDB9TgnwbHmVMGq+yLBRrE6wY/+S8Gpgh/B3d5GwW4qScG9MATB0PYAwQ2rCcErDgDBdIsZwQTCBsHx5f3AGPEDwZEs+8Az3wvBVMcTwajZMsHEXTHBpSQ8wTBGMsGqHSfBUZ80wcb5O8ECqi3B/0w1wYQmOsESBDPBWPg7wS0uOMGdvCHB7DcQwa8eGsG3yA3B3P8+wRZUQMFAxRLBqapOwUqGR8EK8UjBfPw/wTfxT8HhLEfB2PMbwdW3NMEDfR3Bi9IKwdKCP8EyB0XBowMZwdVDRcHush/BjXYhweigNsG0YT/BEGZCwQ9JE8GLyD3BIFRBwUWMRsG3TUXB/9NBwRq/FMFYKBDBnRwUwZp0GcFriTPBjVFFwdrNRMGRsy7BPk4YwTCPD8HQ9A7B6B4YwVD88MDGKRrBM9kYwaTJLcHoAyHBvNwJwe+PFMEi2BnBeGoYwawXNcFcXkPB1wkmwTFVKcHFQR/BuQQ0wfkTKcGCQSvB87kxwRGqNMFXAC7Bu+RUwVdYLMEOnQ3BKs4bwdE8AMEtOhLBxpgTwaFc/8A0CxnBrGkWwWAvNsGoYBzBLD82wWgiJ8GGjCfB9bwQwQ==",
          "dtype": "f4"
         }
        },
        {
         "hovertemplate": "color=7<br>Dim1=%{x}<br>Dim2=%{y}<br>Dim3=%{z}<extra></extra>",
         "legendgroup": "7",
         "marker": {
          "color": "#B6E880",
          "symbol": "circle"
         },
         "mode": "markers",
         "name": "7",
         "scene": "scene",
         "showlegend": true,
         "type": "scatter3d",
         "x": {
          "bdata": "hsEnQAa51r7ogj1Aab4BQKxW+D94SRdATJqjvVpHpT+4+v8/Awf7vxxUiT8a7IQ+qEEfPzKwA8BhOg7AOBe9v7tSLEA+W649L2ygvxkHMMAHxT6/e7YtwBsr2D/q10i/q2siwDiqREBQrIa+8bwpv00Mmb8Iosg9PrcIQChLqD6G9sK/+lvRv+bAH8AzzgnAyYXJv9ky7T7X2nS+XatrPQb8mT6oSRk/mYK0v6jMSr3YAkU/pUk8P27diL9mQIQ+x84FPyoWQz5dBGq/ju0sv/8zuj/C0B5AbYcbP+q/xj9Gslg/Ea1DQN35Cz9qCs8/cb19v5TkvT76Fq+/uzTPP+/SQT8mvkpAR9ZEQLZFPUBQdDtA2Z4hQKDzIkCWIihACWFCQBTxJ0D/ODJAwcYqQPxMYD+1lIG/pBADv8pZ67/r4yLAKSEPv8OZN8AvXNO/lhfvvyqbGEBuGSnAV6+1v1rezr9OpAW/BWYawE42UcAMauq/UEVEwKoIPb8Ca0fAaBwRwHokPL8lLRXAR+ffvyPCL8AE2w3AreA0wEWbJ8BurEjARspwwMa0O8DQ6GTA6W6YwJ0hKsAcvp3AtKhLwLveMUCv/C7ACTJtwD9GmD9jwcE/w+BLQHT27D6cMsU/cg7DPku9uj+fSAU/rraCv8WFO75GgYU/qEY8QPyEXECjZ0W+z6WDvsGeZb9dJMG+Y0bNvdNSg7+UfLY+maOeP7efIcC1WmI+vW+nvoJ0rD8Rugo/rqwWvwAEgz3cs0G/7b+Gv0jT1r+eTB0/ynUNvhX2yL5Kzoe/8c5hv8nokb8q5iI+SqtMv/25Q78mCCO/O8mkv6G8br/yE5q/sMyYvxW+0r5BmhjATjeTvlhidj9r/EC/Tlw1v7H43T+hKeY/BAncP/EZ1L8USypAHQQ6v37oA8CvFui/hGkHwBmy2D2yWua+gtH0P79InL8=",
          "dtype": "f4"
         },
         "y": {
          "bdata": "uTZWQTRMR0FfSz9B0ARHQW/zW0Hr9T9Bn31JQWAzV0F4HDNBIThBQSw9SEEJVlRBrctDQYEKW0Hpy2BB27l9QbABNEEwMyFBlrddQVWPg0FzPVdB+rh/QdKxN0EKUHdBr6Z8QfFFM0ExvllBDL0aQbJ/V0FJyxVBRYIiQY9jFUGgzTtB4OFDQeaTZkFphXtBMZJDQcPHLUF/5q5Amv2oQLe0pUDsDKJAb1PEQIhgq0CnJ6FA4ZSgQGMWvUAtHJtAxvmkQKKypEBgArpACw5WQSjYT0FAQiZByH1HQT76QkGBbWJBUIojQdOmV0G/+FBBTqBYQXe1TEFKNm9BdVlGQSd/U0H+DCVB5XkSQampFUFnnBRBWxsuQRGBIEHLRSxBHWwVQUzbKUE8wSpBb8QoQXx7RkFycDNBuPFcQen3UEG3YmtB3DUtQedoe0Emm0tBjppOQZrFMEEbum9BPmpiQVwUT0HH+VFBJo4LQQWpI0H9eQxBy2MmQeyVD0HOzCNBuXQYQWV1NkHVORhBUQIOQa6JKUFDFBZB1n41QbQBK0GvQTNB9zQoQQgjPEHbii9BDvgsQQJ1R0F68ixBGo0xQbjISkG/KUhB7I0wQaWXYEHq4jFBNGUhQeoEb0FcKVxBUdtSQYkFW0G12GtBm0BsQXmkXkGPtWVBAEYsQSUrOEEbMnNBQnknQZJYNEGyZR9B0I42QY8YN0HuSVdBE5tcQRtOcEFa2zpB/mF2QW8uM0GCZT5BuxkMQfD/BkEWQgtBDFMZQTU0DUG+aghB99AXQcPEFkHXWSVBFswVQfEZAUHPIA5B1D4GQdT7U0H8mFRBkpBXQdBFgEHj8IJBrYB+QdEYc0EA+H5B9VV+QTPTYEEsHnpBPVeEQcPGWEEgVkVB4A1XQblxHUGhzTFBY3BoQR3XW0H784BBAc93QeGSP0EFz1ZBlvAvQc7weUE=",
          "dtype": "f4"
         },
         "z": {
          "bdata": "gFKKQC6xGEHWFyFBuOofQZxzlkAapQ9BqdoZQcp6z0BCti5B78MGQffuHkFu6PJA+q/6QODq+kAGf/tAhEDHQDWYAkFQ9w1BeJvgQGm9tUDPEh5Aejy/QJRu4UAftsFA3ozKQIPd20BOHr9A38IzQXk9skDPZxdB34AOQeiyMEEERhRB/jUQQbv/z0BATeVAOKAOQQYqHUHR1xFByOkTQa7pFkEOXBZBPuEMQZNyEkH9eRtBgwEaQQdyDkGTHOZAwf0ZQbf5E0GI6g5B48UJQLTBnEBKqAxBiscFQYuys0D3YFpAqgAGQdwenEChcrVAtSrRQI0OxECCDnlALU2sQFwpyEDcBwdBRmc1QRerNUFYxzVBv70VQUbQE0Eg9x5BIoU0QR8OIUFBIiJBO5EsQYlCvEBOXwVBxmrOQB/HxUCevKVAY8X/QMBQsUCJy+NAwbDuQG0C3kAy6bNAplb9QNCd60CXgE1ALNcWQagrGkEYeBVBPSEPQSDsIUFKehZB75IhQbWRAUEklSBBD3AdQZYACEEDcQpBIenfQDx/CEGVLtJANpDoQElBBUGq89NAZ/bTQKZhmEAkpdJAE+MGQf65mEDnj6VAqPzVQITyc0C9ed9A1FYJQe/3ckD4Eo1A3VKzQKpWVEBtfm5AtzhvQCc0vUDQOUdA6qsBQQgzykAzHm1AxW/kQCtEu0DqhvFAZMipQMibvkCTk1xAdHGIQOG6p0Dg2BJBlpXSQIftFUEEFKlA+EAUQXfGF0HGCxZBM1MEQRSPAkE7+SJBlFgUQXU69UCljghBf7kDQe0mEEG2YxZBpLASQczK2D/btRBAguSiQFhkZ0DguUFAZQh1QFTqlED1FZZAN9ZiQIF08UDse8BAcg+NQOPotEBKYw9B7aW1QDlYL0FY9xNBSMbiQM3QE0FjJc1AERXvQNQS30DKEltAL3LYQCnrxkA=",
          "dtype": "f4"
         }
        },
        {
         "hovertemplate": "color=8<br>Dim1=%{x}<br>Dim2=%{y}<br>Dim3=%{z}<extra></extra>",
         "legendgroup": "8",
         "marker": {
          "color": "#FF97FF",
          "symbol": "circle"
         },
         "mode": "markers",
         "name": "8",
         "scene": "scene",
         "showlegend": true,
         "type": "scatter3d",
         "x": {
          "bdata": "e0AiwEwAAr/JdIC/iSp+PxfOiL92SoU/Ieu4P50RfD+woYI/TzaBvz+Ihb+smpw/GkwHQe2uzr9vsL29ru4UP4tOvL+5AIPAG4bJv+8AgMCSTJC/c87TPkQ17b6llpO/vuiKvx8jOz+Gpz/ARVMYv/lv2b6M7q2/kI23vxT6IMAEVSDAwwmwv1ebAcAobKvAe2Wlv66xtL5cePq/0/+mv/LpnL4OHpa/32cTwHeTBsAhYBDAGs5rwATUEMD3Db2/8EARv0Iet78L0Pu/4C8uvjC9wL/OfQLAytTvvppC+r+xTifAuasKwB+d578X8ta+TAm4vnxl8L/SJwDAdzEVv3IzRcAUSfS/GlJHwJxOmr9Tdbq/0haDv0WNEcAycsE+wG0CP/yUAsBeHQVAK0pDwE9vvr6yVwZAF1nFQIqvfT8m6WPA+VGtvlgQTL6mnwY/ry0CQCrZqT+LVoU/JKOAwCLvsz8BLg1AYf0/wJaOdsDoY37ACm9WwGHPK8AcIoPA4Lviv8caG8BlEYrAKapAwO4HQ8CUppC/iP4NwDRAisBpC5nAXPKDv2JWB8D2OZLA5hCOwJBg378OiajABxwWwFkygcDLvYXAKU6RwC7Voz9+Tyo/hz2jv0AGVD7fRcA9mzCtvwMzor867ck/ovJwP7U3sr5MPxm+ZzeCv/PMWz9H9Mg/g1OLPvkdY75DPoE/PZl1P1eklT4arKq/V+eFv7lk1z9J2cI/Du8Fv6FIMMCHmz7A6pxdwJPeu79ab/6/BWDZPafY6L+cE7u/pp8YvyJBo76vg7++OZXBvij4+L6QFeFAp6PlPwpdjj/55/C+Gqm6PrYaqr5qhJm7PUUcP4+b1D4LbSbAlbgtwHSHM8BCSljA4ogswFMHub97Gh3AESCGP3NvZ8Dm3P0/yXt6QEXCPT+VnmHA",
          "dtype": "f4"
         },
         "y": {
          "bdata": "HCY5QGhf9UD93bNAP+sAQbd0x0D9RKdAB1CoQJWH7kCfq4tARAD3QOfgjkCe7wJB/awtQCuvjkCm1zNAfPukQCDtkUARdudAXl90QGIL4UAmEENAf12ZQNEOfUDjSoNANsBOQHIHh0Abg4e+oMOrQHpooECh0oo/AUOFP3vBpb+R3gs+XvKHQOCJlz+S7ZU/Lz8iP1DSokBP3YQ+38iuQIaG3L+TNBA/ZIuJP+2Gt7/3q7c/SWaPvV/hhr/lZJdAxZmJQFZzoD4daEk/muG1P1Q/uj+mba0/HJ6YP6gGqD/dXoU/SvShP4hrrT+2MEU/xTamP4ItnD/pmqA/17KSPxSikT9s0UtAknp9PzHXI0BinRRAC0pXQJWmqL95fjpAruKQQNRj+b21xalAypyKP6i1bUD1K1tAfDF8v873fUABYIK/E/36v2q5/79gd44/aS9gQGN3k7/pJ5u/YmuIQPEYj7/PCVZAGX0GQBdUnz+ptuQ/95alP+hLZD+y1nM/BlO1PgMduL8JF9g/7YBzv1fEiT8/AptAegbvQHn0qUCLxIVA941xQJuw9UBcG5pAt9qcQID8vkC1mIlAe4PNQJ9JyEBoTbVALeHNP+C02EBEwNVAJZruQNtLBEEnUc5AlL7mQPLv7kDP6oFA0LjmQIpI7UDR8NRAIbncQOI6jkCDbqdASIfCQFwwwUBQ2Y9A6kukQKq3N0B4W+1AT9XRQGkImEA776xAbHPhQImhar9vS46/uoeDv7Z+yL0JS3y9EhAQwAUjr7+Oq6W/MhG6v8cRqL+r+Ia/Pd6bv61lhr+01jQ/vMYFQU+wdkAW8ypAwAKyQIvUaUDNsCdAGJWZQChekUBj17tAZEjIQKu/pEB9uD1Ao43UQB6Pw0DyVZFA2HpWQC8AiUCaBd1AEMvZQAp4UEDb71VA",
          "dtype": "f4"
         },
         "z": {
          "bdata": "loFvwBBF6b8t53HA0jAwvxbBWcCA6mrApx9zv6u7vb+P+hbA+SBcwCf4psAGBha/c1tgwHVpRcDOIjPAn8OpwH6DRsBsKS/AXmSMwF4qKcCb1b7AMjWUwCGkj8DYC5/AaWbDwPvfHcCfSsa/nnyYPnGbCz+ytYHAN2RcwCTGur4qFAvAG8zjv2vSJcBKqcK/cdBRwA2WUT4lFE0/9VH+v34aDr8ghGy/leW+vuU9YT8bfJc+aOdUwGzGG8Dq+QTAtW0RwMBi1r+yGb2+JMTQwLXyvsACSbnAPe7CwOBuzcDlCtfAR4bcwIYPz8Crh63AIHrTwC3I3MBOOdjAF/3GwGb1J8BWnFq/d5w3wFytt78kw8O/CZFbv4znyb/NYgfAFomsvbAo/L/wE72+OS1IwIREW78SxjDBRJObvlw1L78wOI++5QymP36Rvz9JyoW/uOowwSBMUj+4e1g/0lOdwLGlMz9fdC/Bnse7v+Nzn79gwca/Xk7zv3UPyr5c3ZW/g1T1vyRFgD4WW+K/90cOvwt7D8Dk5pA/ATzxvxYSIcDZ2fy/S015wEX4+b/S3QrA1CQKwBj8wT6j7+O/kHuawD+7HcDYJh7AQDZIv+Y1br/+tMK/+tEaO+Kf0L8HPZM/tMRpvlRGv79TpzTBOcjjv0ruJ8ApXUbAR1gkwK/09b+jY4i/3fPLv7A9TcDAjDjA5ZLYvw2yJ8Aiuh/APAhjwAR7JcByHGC/3N7Vv6V4Tz3siZq+0PzOvgfpl76wAB4/ueT4P39+oz926Zw/yoqnP55jAD/7lug9Zr+rP0VN6b3ghCLAf4i1vmn4JT96Tb/ASty3v35nycDNQbrA54u9wNV0ysD7FpPACKr8vzfgjcCTb3bAjLF8v6iZhz5jz4bAPWx0wAzCk8DaO3rA7wt9wMmGd8BKIoPA",
          "dtype": "f4"
         }
        },
        {
         "hovertemplate": "color=9<br>Dim1=%{x}<br>Dim2=%{y}<br>Dim3=%{z}<extra></extra>",
         "legendgroup": "9",
         "marker": {
          "color": "#FECB52",
          "symbol": "circle"
         },
         "mode": "markers",
         "name": "9",
         "scene": "scene",
         "showlegend": true,
         "type": "scatter3d",
         "x": {
          "bdata": "0ovKwMymT8E350jBMQFSwXhFRcGhQkjBU9Erv6SmPsGyyEfB61pRwXztT8F6YBPBSsMwwca+PsFkXzPBMdk5wSQqRsGFQjjBQddCwWg/JsEVGA3BuFUEwQQ3O8Ev9szA5PP4wHsQwT3t6Vo/rDIywTs9Q8HfT+/AIQUbwS7ubT/Qh1I/WGbzPjt/aT8WLl9AgveDQENZDD+4xEHBFkwpwVe2KcH3btjAfNfawKGiFcGeXxLBJYjdwCT5CsHpZtvAO44NwX/jIMFpGQzBBHfNwICRwcBbvejA9a6/v5cyL8HsfdHAcxgQwROZA8GDF9HAkj7UwFqLKMElpRXBKa8cwUMMfECR7aJAtLuNQPi5q0DbPpNAXAadQIWWmUC4P7BAAr6kQBeCqECQJJJAND+GQEtDhkDlxzXBwMMxwVXuH8FdOi/BUbwlwdtDH8EE6iXB+FsHwYpIMcFgDjXBStQmwfFtIsF3QD7BgNZCwee+KMET3TfBwR4uwcC2JcEDzD3B5rBBwXUPQcHUKinBeZsvwQ92MsHxzvrAjCYmwasrEME1IQPBZjr+wPJz1sAajATBw3TawCS4AsG7d+6/dS8EweUIJcEh+hbB+9gAwYkzF8FvrMPA+yhTwWtKxsBjkwTBNdn+wJ29BcF0hizBxOz4wGwwAcHFSgfBo/cBwVYsNcFrIufAy/wjwT2CGcFKhwrBFYEZwW7+HsH5a+7ATqhAwbJEGsFtExvB7r8NwbtNCMFuEArBh4E2wbxQPMEbsjnBoYItwZUoMsFT6EfBJ0xDwarRRsGjei/B54ZCweloHsGiizHBGi4wwTmMkUC47B5A6kAfQNrbKkA4I/E/TbfSv2DKTkBzY0jBkTWgP5Y7V8EeogTBc8+/vw7qxD9lIyPBrtARwcvyPsG71CnB96Q8wRuqLMGztxDB5cwlwSeUDsFNRgbBWvk7wbUGH8Gg1ujA",
          "dtype": "f4"
         },
         "y": {
          "bdata": "54N7wA8uL8CBAjDA9Kw8wAvgvr8o/djAQ1osQYgOS8CZrdTAcOaBwEL9esCrtKPAz6YVwSkgicBvM4rAvZSIwJpghMCLzV3Ar0WIwDqJdsAeR5DAEpmcwJjigMBa5orAZJ13wKEnnUCSm7JA/bbqwMqbccCycNXA1Qm7wFabnECwGrBAJbmiQPrzpkA6Nd0/19mmP/pinkDIY9rAYhFmwGsgZcD0W3nA+5V4wIYfrMCNzbfAQjV7wJ4sisA+Y3bAKkySwC7mEcE5GZjA4rrCwGvjzsBaqMDApA2WQC+oG8E5X73AFcISwZYs8sDBrL/A+CC/wGkUvcArqQrBqtZkwLzmgj+va5w/qaI4P720nz/Dqto+jVOLP+2PPD/6xRM/mBGGPoTFtz/937A/9JAtP6jnwz+M3a7ArnojwclPUMC9xBvBcrE0v9M0C8EzXUrAKAaMwKqgGsHnpGXAfcgSwf6IEsEPFv/A39m1wMUkx8DDlsPAnjMAwURrnsCjkMXAhPSnwEZPuMCGlprAwLLZwMdABMFzy8DA3jDRwAdv7L8AjaDASeV4wFo8u8DIQqbAsZzFwNzInsBGtclAQIeswL1xnMBaqWLAMGCawMcSn8CqPpfA2JeBwFrFkMBBVufA9a3ywIJJ68BbB4bA0Bq9wF5Y8cAOv8DAu8q0wNav48BhxdXA1U/iwKhr9MBDRvrAXmbpwAiSm8Ce7OTAFYJpwEjV5cDlfJbA2o0GwRo+BcFxjBbBmOTnwMz258Cw/drAd/PGwFr35cDfftrAZS7PwBar4sAvf+bAcqrZwKVC1cBAvO7AHyruwLbXiT7VLME+uWrLPqin2D55XYBAQEgawPGD3T+WKYnA4dCWQGKficCSl+VAl1sZwM9Zj0DkTLzAl168wKXKmcAmm6rAOKvMwHEK0cCld6rA3jmjwHpOqMDUMa7AAW6VwIH1s8DGT3TA",
          "dtype": "f4"
         },
         "z": {
          "bdata": "qKCfPw1NQz9cfps/k3rnPqlg6j8xg5s/wganP0wA5T8VWypAqsLnPi8pOb8blIVA6EwfQHyEED9wWRdAqnaeP7HovD/B/Ma/SxeOPgUe8D+rVRxA/28KQGGV9D8wVQk/bDaAP19Tv0Djgq9AAK5YPwFYyb/ODwpAPSA3wJ2IwUAH1LFACf28QCWNuEAk2tdALenaQOBzwkABhyhAtBkEwMB6A8B0wy2/LphQvz9EFr++8U++mdZbvxbdzL5HHnK/IfojvzYSQkBTNf++o5kAwHK3xb/2iUXA7Hstvw+u/j/pjSPA8uPVP+jdQ7+48xTAXwcgwEN7hr86lLU/tHSyv/Xr0EDvj9dAvgPfQDrl1UDQPZdAhhXUQF8v0UDF5MBAGKTFQHbJ3UA1ONRAEILNQFZ5t0BNVHe/rD2ZP/Sosr/1osQ/Cu2ywGlT5T9VVJS/CytTP4en+j8m58m/LisxQFzsOEBlqf8/g/sgwHrwCcBZrh7ACugQP6WyPcAkqIq/ikIewLq8I8BpvzXAAeYKwNy2QT4iIXXATa79v/3GDkAouZ/Atfq4QIZNJUBsVZvAgkwhQHNHoMDu7T0/iVuWwDoRUkDg9ldARwCpwHFrhECbsaI+hW9uvw3vBT8r65O+vTw7P05lQr+2BQpAFBcOQGNaMb/+HA1AJAcGQHkBuD9vWQ1A3MkfwJvxTr8ezdG+xlsaP5+JKz9oKZy/DQHUv9hSOr1SdbG/771SP/x4Jj88xtI/4i/svD3sC0CiheO+BGMoP0wF7j8qbYM/LlpOvx0xLT5Ps98/CKQavwc+8j6VqlJApTI0QIAkz0Ahe9ZAegzYQOqm1EBSKL1Aua+DQfvp2EA9Ag2/bny+QJ8FTD9C9UfA2DiEQXhdvUCtbbq/1m63P1qXUb7/UNY/UQU0QF5YDUDeRXo8ZkGDPyY/vD6Z8VA/1WktQHHU4z+trnQ/",
          "dtype": "f4"
         }
        }
       ],
       "layout": {
        "legend": {
         "title": {
          "text": "color"
         },
         "tracegroupgap": 0
        },
        "scene": {
         "domain": {
          "x": [
           0,
           1
          ],
          "y": [
           0,
           1
          ]
         },
         "xaxis": {
          "title": {
           "text": "Dim1"
          }
         },
         "yaxis": {
          "title": {
           "text": "Dim2"
          }
         },
         "zaxis": {
          "title": {
           "text": "Dim3"
          }
         }
        },
        "template": {
         "data": {
          "bar": [
           {
            "error_x": {
             "color": "#2a3f5f"
            },
            "error_y": {
             "color": "#2a3f5f"
            },
            "marker": {
             "line": {
              "color": "#E5ECF6",
              "width": 0.5
             },
             "pattern": {
              "fillmode": "overlay",
              "size": 10,
              "solidity": 0.2
             }
            },
            "type": "bar"
           }
          ],
          "barpolar": [
           {
            "marker": {
             "line": {
              "color": "#E5ECF6",
              "width": 0.5
             },
             "pattern": {
              "fillmode": "overlay",
              "size": 10,
              "solidity": 0.2
             }
            },
            "type": "barpolar"
           }
          ],
          "carpet": [
           {
            "aaxis": {
             "endlinecolor": "#2a3f5f",
             "gridcolor": "white",
             "linecolor": "white",
             "minorgridcolor": "white",
             "startlinecolor": "#2a3f5f"
            },
            "baxis": {
             "endlinecolor": "#2a3f5f",
             "gridcolor": "white",
             "linecolor": "white",
             "minorgridcolor": "white",
             "startlinecolor": "#2a3f5f"
            },
            "type": "carpet"
           }
          ],
          "choropleth": [
           {
            "colorbar": {
             "outlinewidth": 0,
             "ticks": ""
            },
            "type": "choropleth"
           }
          ],
          "contour": [
           {
            "colorbar": {
             "outlinewidth": 0,
             "ticks": ""
            },
            "colorscale": [
             [
              0,
              "#0d0887"
             ],
             [
              0.1111111111111111,
              "#46039f"
             ],
             [
              0.2222222222222222,
              "#7201a8"
             ],
             [
              0.3333333333333333,
              "#9c179e"
             ],
             [
              0.4444444444444444,
              "#bd3786"
             ],
             [
              0.5555555555555556,
              "#d8576b"
             ],
             [
              0.6666666666666666,
              "#ed7953"
             ],
             [
              0.7777777777777778,
              "#fb9f3a"
             ],
             [
              0.8888888888888888,
              "#fdca26"
             ],
             [
              1,
              "#f0f921"
             ]
            ],
            "type": "contour"
           }
          ],
          "contourcarpet": [
           {
            "colorbar": {
             "outlinewidth": 0,
             "ticks": ""
            },
            "type": "contourcarpet"
           }
          ],
          "heatmap": [
           {
            "colorbar": {
             "outlinewidth": 0,
             "ticks": ""
            },
            "colorscale": [
             [
              0,
              "#0d0887"
             ],
             [
              0.1111111111111111,
              "#46039f"
             ],
             [
              0.2222222222222222,
              "#7201a8"
             ],
             [
              0.3333333333333333,
              "#9c179e"
             ],
             [
              0.4444444444444444,
              "#bd3786"
             ],
             [
              0.5555555555555556,
              "#d8576b"
             ],
             [
              0.6666666666666666,
              "#ed7953"
             ],
             [
              0.7777777777777778,
              "#fb9f3a"
             ],
             [
              0.8888888888888888,
              "#fdca26"
             ],
             [
              1,
              "#f0f921"
             ]
            ],
            "type": "heatmap"
           }
          ],
          "histogram": [
           {
            "marker": {
             "pattern": {
              "fillmode": "overlay",
              "size": 10,
              "solidity": 0.2
             }
            },
            "type": "histogram"
           }
          ],
          "histogram2d": [
           {
            "colorbar": {
             "outlinewidth": 0,
             "ticks": ""
            },
            "colorscale": [
             [
              0,
              "#0d0887"
             ],
             [
              0.1111111111111111,
              "#46039f"
             ],
             [
              0.2222222222222222,
              "#7201a8"
             ],
             [
              0.3333333333333333,
              "#9c179e"
             ],
             [
              0.4444444444444444,
              "#bd3786"
             ],
             [
              0.5555555555555556,
              "#d8576b"
             ],
             [
              0.6666666666666666,
              "#ed7953"
             ],
             [
              0.7777777777777778,
              "#fb9f3a"
             ],
             [
              0.8888888888888888,
              "#fdca26"
             ],
             [
              1,
              "#f0f921"
             ]
            ],
            "type": "histogram2d"
           }
          ],
          "histogram2dcontour": [
           {
            "colorbar": {
             "outlinewidth": 0,
             "ticks": ""
            },
            "colorscale": [
             [
              0,
              "#0d0887"
             ],
             [
              0.1111111111111111,
              "#46039f"
             ],
             [
              0.2222222222222222,
              "#7201a8"
             ],
             [
              0.3333333333333333,
              "#9c179e"
             ],
             [
              0.4444444444444444,
              "#bd3786"
             ],
             [
              0.5555555555555556,
              "#d8576b"
             ],
             [
              0.6666666666666666,
              "#ed7953"
             ],
             [
              0.7777777777777778,
              "#fb9f3a"
             ],
             [
              0.8888888888888888,
              "#fdca26"
             ],
             [
              1,
              "#f0f921"
             ]
            ],
            "type": "histogram2dcontour"
           }
          ],
          "mesh3d": [
           {
            "colorbar": {
             "outlinewidth": 0,
             "ticks": ""
            },
            "type": "mesh3d"
           }
          ],
          "parcoords": [
           {
            "line": {
             "colorbar": {
              "outlinewidth": 0,
              "ticks": ""
             }
            },
            "type": "parcoords"
           }
          ],
          "pie": [
           {
            "automargin": true,
            "type": "pie"
           }
          ],
          "scatter": [
           {
            "fillpattern": {
             "fillmode": "overlay",
             "size": 10,
             "solidity": 0.2
            },
            "type": "scatter"
           }
          ],
          "scatter3d": [
           {
            "line": {
             "colorbar": {
              "outlinewidth": 0,
              "ticks": ""
             }
            },
            "marker": {
             "colorbar": {
              "outlinewidth": 0,
              "ticks": ""
             }
            },
            "type": "scatter3d"
           }
          ],
          "scattercarpet": [
           {
            "marker": {
             "colorbar": {
              "outlinewidth": 0,
              "ticks": ""
             }
            },
            "type": "scattercarpet"
           }
          ],
          "scattergeo": [
           {
            "marker": {
             "colorbar": {
              "outlinewidth": 0,
              "ticks": ""
             }
            },
            "type": "scattergeo"
           }
          ],
          "scattergl": [
           {
            "marker": {
             "colorbar": {
              "outlinewidth": 0,
              "ticks": ""
             }
            },
            "type": "scattergl"
           }
          ],
          "scattermap": [
           {
            "marker": {
             "colorbar": {
              "outlinewidth": 0,
              "ticks": ""
             }
            },
            "type": "scattermap"
           }
          ],
          "scattermapbox": [
           {
            "marker": {
             "colorbar": {
              "outlinewidth": 0,
              "ticks": ""
             }
            },
            "type": "scattermapbox"
           }
          ],
          "scatterpolar": [
           {
            "marker": {
             "colorbar": {
              "outlinewidth": 0,
              "ticks": ""
             }
            },
            "type": "scatterpolar"
           }
          ],
          "scatterpolargl": [
           {
            "marker": {
             "colorbar": {
              "outlinewidth": 0,
              "ticks": ""
             }
            },
            "type": "scatterpolargl"
           }
          ],
          "scatterternary": [
           {
            "marker": {
             "colorbar": {
              "outlinewidth": 0,
              "ticks": ""
             }
            },
            "type": "scatterternary"
           }
          ],
          "surface": [
           {
            "colorbar": {
             "outlinewidth": 0,
             "ticks": ""
            },
            "colorscale": [
             [
              0,
              "#0d0887"
             ],
             [
              0.1111111111111111,
              "#46039f"
             ],
             [
              0.2222222222222222,
              "#7201a8"
             ],
             [
              0.3333333333333333,
              "#9c179e"
             ],
             [
              0.4444444444444444,
              "#bd3786"
             ],
             [
              0.5555555555555556,
              "#d8576b"
             ],
             [
              0.6666666666666666,
              "#ed7953"
             ],
             [
              0.7777777777777778,
              "#fb9f3a"
             ],
             [
              0.8888888888888888,
              "#fdca26"
             ],
             [
              1,
              "#f0f921"
             ]
            ],
            "type": "surface"
           }
          ],
          "table": [
           {
            "cells": {
             "fill": {
              "color": "#EBF0F8"
             },
             "line": {
              "color": "white"
             }
            },
            "header": {
             "fill": {
              "color": "#C8D4E3"
             },
             "line": {
              "color": "white"
             }
            },
            "type": "table"
           }
          ]
         },
         "layout": {
          "annotationdefaults": {
           "arrowcolor": "#2a3f5f",
           "arrowhead": 0,
           "arrowwidth": 1
          },
          "autotypenumbers": "strict",
          "coloraxis": {
           "colorbar": {
            "outlinewidth": 0,
            "ticks": ""
           }
          },
          "colorscale": {
           "diverging": [
            [
             0,
             "#8e0152"
            ],
            [
             0.1,
             "#c51b7d"
            ],
            [
             0.2,
             "#de77ae"
            ],
            [
             0.3,
             "#f1b6da"
            ],
            [
             0.4,
             "#fde0ef"
            ],
            [
             0.5,
             "#f7f7f7"
            ],
            [
             0.6,
             "#e6f5d0"
            ],
            [
             0.7,
             "#b8e186"
            ],
            [
             0.8,
             "#7fbc41"
            ],
            [
             0.9,
             "#4d9221"
            ],
            [
             1,
             "#276419"
            ]
           ],
           "sequential": [
            [
             0,
             "#0d0887"
            ],
            [
             0.1111111111111111,
             "#46039f"
            ],
            [
             0.2222222222222222,
             "#7201a8"
            ],
            [
             0.3333333333333333,
             "#9c179e"
            ],
            [
             0.4444444444444444,
             "#bd3786"
            ],
            [
             0.5555555555555556,
             "#d8576b"
            ],
            [
             0.6666666666666666,
             "#ed7953"
            ],
            [
             0.7777777777777778,
             "#fb9f3a"
            ],
            [
             0.8888888888888888,
             "#fdca26"
            ],
            [
             1,
             "#f0f921"
            ]
           ],
           "sequentialminus": [
            [
             0,
             "#0d0887"
            ],
            [
             0.1111111111111111,
             "#46039f"
            ],
            [
             0.2222222222222222,
             "#7201a8"
            ],
            [
             0.3333333333333333,
             "#9c179e"
            ],
            [
             0.4444444444444444,
             "#bd3786"
            ],
            [
             0.5555555555555556,
             "#d8576b"
            ],
            [
             0.6666666666666666,
             "#ed7953"
            ],
            [
             0.7777777777777778,
             "#fb9f3a"
            ],
            [
             0.8888888888888888,
             "#fdca26"
            ],
            [
             1,
             "#f0f921"
            ]
           ]
          },
          "colorway": [
           "#636efa",
           "#EF553B",
           "#00cc96",
           "#ab63fa",
           "#FFA15A",
           "#19d3f3",
           "#FF6692",
           "#B6E880",
           "#FF97FF",
           "#FECB52"
          ],
          "font": {
           "color": "#2a3f5f"
          },
          "geo": {
           "bgcolor": "white",
           "lakecolor": "white",
           "landcolor": "#E5ECF6",
           "showlakes": true,
           "showland": true,
           "subunitcolor": "white"
          },
          "hoverlabel": {
           "align": "left"
          },
          "hovermode": "closest",
          "mapbox": {
           "style": "light"
          },
          "paper_bgcolor": "white",
          "plot_bgcolor": "#E5ECF6",
          "polar": {
           "angularaxis": {
            "gridcolor": "white",
            "linecolor": "white",
            "ticks": ""
           },
           "bgcolor": "#E5ECF6",
           "radialaxis": {
            "gridcolor": "white",
            "linecolor": "white",
            "ticks": ""
           }
          },
          "scene": {
           "xaxis": {
            "backgroundcolor": "#E5ECF6",
            "gridcolor": "white",
            "gridwidth": 2,
            "linecolor": "white",
            "showbackground": true,
            "ticks": "",
            "zerolinecolor": "white"
           },
           "yaxis": {
            "backgroundcolor": "#E5ECF6",
            "gridcolor": "white",
            "gridwidth": 2,
            "linecolor": "white",
            "showbackground": true,
            "ticks": "",
            "zerolinecolor": "white"
           },
           "zaxis": {
            "backgroundcolor": "#E5ECF6",
            "gridcolor": "white",
            "gridwidth": 2,
            "linecolor": "white",
            "showbackground": true,
            "ticks": "",
            "zerolinecolor": "white"
           }
          },
          "shapedefaults": {
           "line": {
            "color": "#2a3f5f"
           }
          },
          "ternary": {
           "aaxis": {
            "gridcolor": "white",
            "linecolor": "white",
            "ticks": ""
           },
           "baxis": {
            "gridcolor": "white",
            "linecolor": "white",
            "ticks": ""
           },
           "bgcolor": "#E5ECF6",
           "caxis": {
            "gridcolor": "white",
            "linecolor": "white",
            "ticks": ""
           }
          },
          "title": {
           "x": 0.05
          },
          "xaxis": {
           "automargin": true,
           "gridcolor": "white",
           "linecolor": "white",
           "ticks": "",
           "title": {
            "standoff": 15
           },
           "zerolinecolor": "white",
           "zerolinewidth": 2
          },
          "yaxis": {
           "automargin": true,
           "gridcolor": "white",
           "linecolor": "white",
           "ticks": "",
           "title": {
            "standoff": 15
           },
           "zerolinecolor": "white",
           "zerolinewidth": 2
          }
         }
        },
        "title": {
         "text": "t-SNE en 3D (Interactif)"
        }
       }
      }
     },
     "metadata": {},
     "output_type": "display_data"
    }
   ],
   "source": [
    "import numpy as np\n",
    "from sklearn.datasets import load_digits\n",
    "from sklearn.decomposition import PCA\n",
    "from sklearn.manifold import TSNE\n",
    "import umap\n",
    "import plotly.express as px\n",
    "\n",
    "# Charger un jeu de données d'exemple (chiffres manuscrits)\n",
    "digits = load_digits()\n",
    "X = digits.data\n",
    "y = digits.target\n",
    "\n",
    "# Réduction de dimension avec t-SNE\n",
    "tsne = TSNE(n_components=3, random_state=42, init=\"pca\", learning_rate=\"auto\")\n",
    "X_tsne = tsne.fit_transform(X)\n",
    "\n",
    "fig_tsne = px.scatter_3d(\n",
    "    x=X_tsne[:, 0], y=X_tsne[:, 1], z=X_tsne[:, 2],\n",
    "    color=y.astype(str), title=\"t-SNE en 3D (Interactif)\",\n",
    "    labels={\"x\": \"Dim1\", \"y\": \"Dim2\", \"z\": \"Dim3\"}\n",
    ")\n",
    "fig_tsne.show()\n",
    "\n"
   ]
  }
 ],
 "metadata": {
  "kernelspec": {
   "display_name": "venv (3.12.3)",
   "language": "python",
   "name": "python3"
  },
  "language_info": {
   "codemirror_mode": {
    "name": "ipython",
    "version": 3
   },
   "file_extension": ".py",
   "mimetype": "text/x-python",
   "name": "python",
   "nbconvert_exporter": "python",
   "pygments_lexer": "ipython3",
   "version": "3.12.3"
  }
 },
 "nbformat": 4,
 "nbformat_minor": 5
}
