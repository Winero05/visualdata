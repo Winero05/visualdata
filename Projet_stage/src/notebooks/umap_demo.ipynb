{
 "cells": [
  {
   "cell_type": "code",
   "execution_count": 1,
   "id": "fc334339",
   "metadata": {},
   "outputs": [
    {
     "name": "stderr",
     "output_type": "stream",
     "text": [
      "/home/adama/visualdata/venv/lib/python3.12/site-packages/umap/umap_.py:1952: UserWarning: n_jobs value 1 overridden to 1 by setting random_state. Use no seed for parallelism.\n",
      "  warn(\n"
     ]
    },
    {
     "data": {
      "application/vnd.plotly.v1+json": {
       "config": {
        "plotlyServerURL": "https://plot.ly"
       },
       "data": [
        {
         "hovertemplate": "color=0<br>UMAP1=%{x}<br>UMAP2=%{y}<br>UMAP3=%{z}<extra></extra>",
         "legendgroup": "0",
         "marker": {
          "color": "#636efa",
          "symbol": "circle"
         },
         "mode": "markers",
         "name": "0",
         "scene": "scene",
         "showlegend": true,
         "type": "scatter3d",
         "x": {
          "bdata": "i82GQUAHiUFb/4pBkDOIQTKoi0G33IZBHdSGQSTvi0HTwopBkvWEQdMyhkGSrIlBUF2LQXmsh0GAOYpBlA+IQUt8i0El6olBxBuHQWiui0EHn4tB2GKJQZmGjEEClYpBQGiGQVwxikFA9IhBGa6HQdOLh0E8qYhB83SHQYCVhUHa+4RBCXiGQaqWiEG+5YhBU0yIQScQh0FIxIVBmTWGQYJ0iEFqbolB2h6KQW3lh0EA8YRBIPyIQTF2hEHCC4lB5X2FQfvphkFBi4hBA/eGQQ8RiEHJr4RBv7qGQa5viEGcnoNB6WOFQSIJhEFs44dBHMyJQRnKhUHHYIhBfauHQU8mhkEPsIpBjceHQQ0ljEEw/odBGqGIQTS0ikGVq4dBBpGMQePvi0H+g4pBDeeIQeLziUHw44lB1P2EQf0NhUGsV4ZB6AyGQc8hh0Gs8IlB0jqKQdwNi0GXrYtBZxONQZrohEFqloZBgaiIQVntg0H5moRBSK6FQcLQg0GyJIRBjqaDQeJ5hEFmhYNBT16EQcfjgkH9+YZBaRGHQTKAhEFmzINBO6iFQdg5hUEdqYNBdASFQY4QhEFCnIRBhPmDQTKUhUEyuoNB7PWFQdi9h0G8uYdBW/iHQbMPiUEtaohBvk2IQZ3Kh0H1/YdBlSGHQYhvh0HIF4lBFZiHQUtFhEH3rIlBeiGIQQQBhUG6hoxB8XmKQWnRikGRQYpB8hKIQST/hkESoIdBC0SKQRT4i0FVGoRBq+mFQXTshEExN4RBhBmFQQyJhUG0BYRBCnuEQTlThUEs7oRBiDyEQeycg0Ezk4VBQ9+LQeObi0HxS4tBYYSNQXOZiEFzmoxBhjyJQTIBikEraIxBD4CEQf55jEFqoohBN8GFQURbhkEkoYZBbJmGQW6NjEHBL4hB7K+GQUJAikER4IdB5IeHQYL/hkH9AYtBmx+MQQ==",
          "dtype": "f4"
         },
         "y": {
          "bdata": "s9whQZ+OHUFl4hdBTDMiQcRXHEHMbBhBSDkVQSP3FkG67hZBY20YQSGeGUGQVhVBMzIWQbdSG0HQtBxBhqAVQWG7GkHi7R1BQIQZQdatFUGOphZBaGoYQR0QF0E/yhVBckIaQY7XFUH/Sh5BZucbQd+MHEEbwB9BrP4hQVKnGkHIRxxBgbkcQSDTHEEPfhxBrq4fQcfIF0GEtBZBwEcZQfItGkF4IxdB45QcQewSHkHIuhdBQJcXQZAOHUHNFR5BVecfQW8tF0Hp+xhBQ4YbQSmgIEGX5xpBOxsiQUpDH0EaEBlBZcIbQWSlGkFY0h5BwLsZQdzhIEG1PSBBAbsjQZ/9H0FbYxxBKD8jQY3iGUGfdh5BZXwbQSH1F0H1EyNBSs4WQbSkGUGiKh1BoWQZQXlUFkHW5xxBofEdQcfsHEHlIB5BdNoaQWBFHUHyXhdBvCAbQd42HkEqFhpB5fUYQX1vH0Fp7yBB5eQYQXU8G0GurBtBWukaQbmlHUEzVh5BTuwcQesTH0FWmxpBRKseQUHHHEHGZSBBO5MYQVClFkHZ0xlB39cVQaXjFUG0JhdBGckbQbFkH0FrWRpBYTkZQUHqIEED/RhBRdUcQbVkIkFPjB9B5PsiQcqCIUFyISNBs/gjQTQwI0GkNCNB4I4kQdhaJEGqBxhBF3MkQeulFkF+4BhBTRgVQTtfGkFKXBZBjTgXQck7GEGL6CFBdckfQfyFIkGIpRZBR/oWQT/yFUHgjh1BK1QZQd8PG0F0AxhBnygZQaqGG0GUPBlBYkwaQavXG0GutxlB3UEeQbgKF0HN7iBBn6YXQQClFUHGiRpBA80WQZk6GEGqrhVBllweQc2fE0GDXhVB5b4bQRyYFkG2FyBBUucYQZloGEGbaxlBN4AfQU+sGUG9xxxBMDMgQY0WHUHM6x1BIPogQY+FGkGQuhRBKbEbQQ==",
          "dtype": "f4"
         },
         "z": {
          "bdata": "TRBSQGiIUUDUdW9AzWNbQBuHaEA9rFlA1zJxQDpfdkDctX5AEyp3QNzFeUDOwHRAmDB2QCMeYkAsuHdAf354QG4JbEAuO2lAj013QEdVeUBM2XpA4z19QLkVeEAn/X9A69t4QOZeeUBThU5AI1dtQM+DT0COLUpAvkRFQA3SVEB3/lRAkz1PQKICUEAYNFJA3otQQFEdaED/inFAfWh9QPwwe0ANz3xAscN2QOrFb0B5hm5AqxB8QJ66ZUCZeGxAQsViQPh+e0DxKoBAW3RfQIkKaUAg4VZAP1BjQAdjaEDs8mBA7OpfQLmtcUCXx01AwKN1QDv8Y0DgiWBAph1VQOr8YUCyZV1AHbNLQE7gaECgR1BAuvJ5QJz4c0BvyFJAmLV2QG6Za0DMim1AvwNcQCmMaUDjGW5AoVVKQFrCYEB0EkVAT/RUQNx6UkB+H2xARD9WQMXyXEAatWVA3hVxQJ/wWUCHRVJAKBVYQNUjVUAzKVpAabtoQM5oUUByVlZAkopUQLOsS0C/22RAS91UQGLCUkDgQUtA+R9xQORAaUAi82NA0ONwQPrFYkBFCGRAKQpwQI+MYkDgIGZA0TZlQIxUWkDyAGVAOMVaQFlRS0C1IU5AlIxLQCXsT0C1NV1A3m9OQM9qUUBnyklAj1BNQBeaSkDgmmtAaoNHQDvbYEBffV9AxPlmQJmsekD2WXNAbsZjQAqXb0BIw1lA5xVOQM7oVEBct15AMrpqQC/9bkCGy1VA/Ql6QAyaUUAZd2hA/ldxQLDXZkBiE2VAzch0QOA4eUCoynpAvwtdQANNa0CUZF1AR7tuQBQlbkDsi3NAbGJzQHuPV0C8AnVAsGtTQGU0bEBeCHRA8CBpQLfNdUBKWVdAiDV+QPate0A5TX5ADNRaQILFaEDECXVAEHhOQOjCdUAYOHFATStmQEByfUBWA3NA0CVnQA==",
          "dtype": "f4"
         }
        },
        {
         "hovertemplate": "color=1<br>UMAP1=%{x}<br>UMAP2=%{y}<br>UMAP3=%{z}<extra></extra>",
         "legendgroup": "1",
         "marker": {
          "color": "#EF553B",
          "symbol": "circle"
         },
         "mode": "markers",
         "name": "1",
         "scene": "scene",
         "showlegend": true,
         "type": "scatter3d",
         "x": {
          "bdata": "uN+FwFJXj8CGI43A0nmNwAqqi8AMyovAk2OKwFXSi8BUHovAMc2MwA5WhMAmG3HAF/uNwCuni8CNYJHAi+qNwJVyj8DpbI7Ac5iNwCmpkMBFUI3AcoyRwKnaj8CQjI7ANqKRwJ6aj8Bjb27AaGKQwKT9Z8DyOWXAY7p2wPEsksCZfGvAu5Z1wHefcMAtlXjAsuWDwKLEh8DX6GDAjFKJwINUh8AZ3YvAdX+KwJL4iMC9UGI/MPGLwNWfiMD+A4rA/GSNwNA4isBs+ojAK8yJwMDZbj9p9Gk/hmFlP5AiZT/60Xc/oPZkPxIgcT8h3G4/AVF2P6XHZD/zRW8/LGZewGONdj9/p2jAD79kwBzmY8Cw9GTAreJiwNJVgcANbFjAnlWAwEcEVcBNBlXAF2dUwAwdW8Bmr1vAG6SJwO9BicB144LAf0tawEFtXMCaEFk/0XRpwAjbYcA4DGjARzB3wLxtecCmSXzAnHBvwOSbYj9BN18/lspbPwpLdD9Ah2E/wP9jP0gNaz96zmw/ez5hP0wlYj+jZ3I/6fNwPwh/az/ObGTAFStowMHLhMCFlFnASRl5wK1mXcDYpYfA1IZuwJUahMDh617ALp93wARyccDD42/AoRSKwCCwisA1h3vA18tvwB4HiMAI8IrAwCxnwIdohsA8VYPA5t9xwCjDaMCQRWvAlENrwHvXhsAnX4PA7+OMwN12icADWIrAzSiKwEPrh8AZVovA5bWKwIpui8BnrIjAVQJ8wJGzfcBCBYnAnYaJwGYTisC8IIzA1fqJwFWLicAmC4jAOV+IwP/xh8BU24nAePGIwNBTisCTDYnA/N6GwDfmc8DzVWXAbSGLwB5NhcBvbHbAp9iBwPMUh8CwxIvAkeOMwAcRicC2tYvAtRaMwCFAX8CTfVvA4gdjwBJAX8CXp1/Aq7FWwC9nWsABOFrAOOVrwIZIYMAXlGDAwAxYwP0sXcA=",
          "dtype": "f4"
         },
         "y": {
          "bdata": "SWBLQUStUUEz1VJBvHFRQS87U0HmbFNBOjNSQYiyUkG6z1BBW2pSQSKmTEE9S0xB2WRTQdbIVkHwclFBQMdUQddTUkHEs1RB5t1SQXwIUUEyYlRBLyVQQTRpU0HGl1FB6xhRQa45UkFqGEhBkmlNQdp+Q0EF8khB1SNFQRjyUEG/BklBnrBFQfqjPkEu60ZBuXlLQaNdSkEPJEtB7qJXQRnsUUED9lFBeh9UQYKOU0GUqZU/R8JTQX08UkFA0lFBLQxSQYwWUkFC51JBgTZVQc8sjT8zc5I/YD6SPy8wkj+n1JA/xmmUPwxujj/FDo4/pzSKPzSslD9VdIs/UEpDQZUUij/mt0dBwWJIQTcUSUEfkEVBrxFFQQLvR0ERI0ZBedxGQXg9SkGkPkhB/bFFQXg2SEHDFEZBafFLQZYSS0Esr0hBYoBDQapaRUEnGZs/PyZEQZ8rSUFNqEdBarNKQc63SkGGmUhBQltGQYdykz+45JI/RIyWP72+ij9z1pA/JQaWP/Dnjj9N4Y0/Da6RPwsPkj+dHIs/rLqLPwfdjj/X4kJBJa1DQSP2SkGkeURBgstKQRA+SkHCYEtBuTlLQSYKSUGydEVB6HBGQW0eTUHmB0tBaYZRQbMsUkExYU1Bw3JFQa7QUEFh80xBOTxKQUGzS0GOJUxBDHpLQY88S0EHX0xBrERNQbpjV0HyU01B5itWQfTFTEFqGExBlsZVQU4KS0EBN1NBrU1MQTXRTEE3uktBibRMQZ6lTUEkuVZBKutXQVRDV0H+11ZBkh1YQdA3WEHnX1hBy0ZZQcV8WEEhY1dB52xYQQ0HWEEaxFhBmclMQbe7TEGbaEtBF5ZMQaBvTUHmm0xBARBNQSycTUEqR01BSFhNQVC2TUH4oUxB2ThNQZwmRkF4kkRBUYFHQeBTREEYuURBablHQcEQRUFXK0NBNIxCQQVhREGxL0ZBTVxDQV/DQ0E=",
          "dtype": "f4"
         },
         "z": {
          "bdata": "uZILQd14z0CCI9FAh0PWQJZZ2kAILdRATK3bQOmF1UAyGOBALaDVQPDVB0GdkQlB0grMQNtax0BoH85A/6DIQDMLz0B70shAnrvPQFDazUDu28pAFr/NQM+qyEDphNBA/GLNQHkhzUBg5g5BOxbWQKI2D0FjrAlBayMPQaehzEAGfQxBd8oQQTHuEUGAURBB8h8NQQ2TEEHjLglBzgfKQACi2kD2N9NAirXTQI/e2ED6wqlAEjnQQJdM3kDZt9tAMnLVQBaS1kDSp9hA77LPQNRDqEBEwahAniapQJo4qUCQVaZAYj6pQGfTp0A9BKhAjF+nQGCzp0DiGKpAl/cLQTZap0B9Xw5BcKoIQa46CEHqxQ5B4iMPQYOGEEGgBwxBULoQQQW6CkHLYQpB/PQLQfJMDEESnQ5BacQPQRwMEEFYHBBBUKwLQadvDEEKTKpAv7AQQfOFCEG7ug5B8moMQbuQC0EX7g9Br+UQQQOPqUA1HqpAYHyqQNfgp0DI96lArAyqQC3hqEDCr6hAUcepQG7OqUAP86dA8CCoQBOTqEAAoQ1B470NQesxDkHw2w5BYaULQeMMCkHHfA5BTO0JQRnED0FBShBBBbQQQXllCUGtCgpB0EveQHqB2kDNJQhBqH0QQfrO6ED5Cw9BsgwJQSonDkGmQghBkRELQWupCUENWQlBjsUGQSVRz0CpWgZBgmvGQEjFDkH+jw9BPC7PQLgsEEGwhNpAFxsPQeEjD0G/Sw9BmFALQYmTCkHvT81AJzrJQHcjykCKrMZAwrLGQMN1yEDGz8hAm2fFQJZyykCuiMtAgRjIQFgexkBNZMdApMcMQcu9CEF9NAhBJXgPQScXDUF0AwpBHcULQQKXDUEDlg9BdsQPQb1BDUFuHQ9BotkOQW7hCEFIvAtBIjUIQcXiCkH9SQ5BIE8IQaUNDkFc0gxBbb4MQXqxEEGLIwpBA34MQR+EDUE=",
          "dtype": "f4"
         }
        },
        {
         "hovertemplate": "color=2<br>UMAP1=%{x}<br>UMAP2=%{y}<br>UMAP3=%{z}<extra></extra>",
         "legendgroup": "2",
         "marker": {
          "color": "#00cc96",
          "symbol": "circle"
         },
         "mode": "markers",
         "name": "2",
         "scene": "scene",
         "showlegend": true,
         "type": "scatter3d",
         "x": {
          "bdata": "DipbwEm0qsAzzqrAhbpewBoZXsBm/FjAow5jwFZSZsAsOWfA5Ui/wGKJpcDBb17Ai01mwH71ucBs8bHA3N2hwGa9r8CuzrDAGf/BwDE2usAtm5zA0BiuwLmeuMB6DMPATKHAwE38sMC+3azA7fyuwCYBrsAU9bjA1oGxwA4ZqsCgxrLAjHiqwF6PtsDETrDAWuStwDClt8C757PAOtqswILNpsDPDrrA4GeowEQKsMAhaK7AJsalwI8KsMCuMbfAZ7nAwDB1vMCjYLrAHw1hwK/RnMDnX6nApgWkwK23osAAHqXA/KSiwPcypsBxU6PAK7GtwOh+usCXmafAZvGpwEcRpMCgVqrAOMirwOjlp8ABZZ/AP4ulwMNXmsDGhpfAxiyhwLA2qsD9NrrAEWWpwOVSpsBM2qjAmN23wNhOusDYn7vAfUeuwNBywcCND7fA+PzAwFBYu8D+/cHA2VOewOi0wMAEKgXAlCSrwGjtrsAP7cPAoNWswDEGscDGpaHA8mGnwJamosBE7qPAKPa0wKPTqMAZ2qLAWpy6wI59t8BaDaTAzE2gwJWim8AK85zASwqlwEPmmcB4KKrAGPy3wMuNpcA82pvA0m69wKZvp8D6BqfARHCjwKapqMBhFLXAf7+pwGiyp8A/EKHAe5GuwD1qucC5FbbAX26owIxSmcA9rZvAH/KZwKmDmMB/K5nAU5uZwJe6msDQg6nAXF2YwCCln8AGIJnAjuCbwGSHncAb/r/AoIrCwGG4v8D50bfAxYK+wGRuvcDN5L7Agr+/wE5LvsAzTMPARja6wF/anMCuTb/ATE2owB5imsCRhJ/At4iHQZ74q8APkpjAFYavwGMdmsA8O77A0zW9wHBqmcA/sLXAfUaqwCdLpcBzcMPAfrW+wAyTw8AvbcHAcNa3wP4ipsCZOqbAAhG5wHE/vcCtEsDA",
          "dtype": "f4"
         },
         "y": {
          "bdata": "8301QaO4CEF9GQ9B1gk0QWQnNUGK8jRBSU42QXFGNkHHfDhBugcUQYQeFEGbJDVB450yQXKcFkFV0xdBqAoRQbSTFEG2OBdB9fMTQcVzDkGE4w5BdL4UQXe3FUHEJBNBLcMUQX9fE0H9ZRFB0z0SQXTVFUFhnhhBvngXQSncEkHU9hRBgWUVQfuMGEG5cBhBOMsVQW9wGEEuahJBF4oJQWwHBkE7zQpBmucFQcOgCUEZHAhBHu4FQQLpB0EcMA1BKoAMQeoODkEAwwlBTyg1QXozBUE5Ng1BBpQHQW0vC0FXVQtB8AEKQRnyCkEY+wVBFqwRQSUyEkHRTwpBQYoPQfs7CUEArxZBMPYVQWESFkEwNBJBtgwWQX/IFEFK1A5B3moTQedpFkEtKxlB318XQSu2FkE+iBZBrfIXQf3jFEEKFBhBpqsTQQCGFUH8NxpBy4MNQfGjGEFJgRRBXrURQWI0F0FIAZRBUPEXQW+3E0GY/A9BTmAOQdU0CkFLaAVBeA0JQbluBkHgxgZBQ9ELQVs8CkE3hQRB16sJQUlSE0G0RQ9BbnUGQbQPBkEApQZBe3MFQWgDBUF/8QhBZz8JQTfmCUF3CgVBCBEWQSNjD0Fl9BZBCJQRQRxhFkE+kBhBuX0UQfbAEkEGOxBBp64XQRMPGUGR3BlBeP4UQWLnBUFxYwNB56cEQY+zBEHTMwRBJvYDQYO5BUFXzAdBZOsDQVolBkHzvANBURAFQVrqBUE6FA1BvlQMQd4zC0GlqwhB2IIKQQKxCUGtMgpBG10LQanVCUEoHBJBRRQKQd20DEFinApBG/UNQQBEBEGqxgVBmCgiQaSXC0EDoQNBxNwXQVwyA0ElVBVB1hcNQY7hBUEpugtBFKQWQZE6EkH/9xFB3+sLQcogEUEM4ApBWb0KQQqQFUHH3BNBhw4JQbWVCUFbdgpB",
          "dtype": "f4"
         },
         "z": {
          "bdata": "YrMZQQSeOkH+qDhBLzoaQdaqGUG6ChpBrZEYQdarGEHMjBZBLyk4QaJ+NEEqQxlB1DcbQeOPNkGFnTRBEJU1QTecM0EDizRBYqA3QeqLNUFDPDVBrwozQUdRNUHh0zdBp4c2QTZTMEGHRThB+Lw3QcZSN0EOlzZBd0c0QbFBN0FH6DdBuRw1QVeWNkGZQzVBnMI2QSBONkGeRjhBH2E6QfSCO0EKrTlB0do7QQ+5OUEiqDpBiWQ7QWGoOkFEcDhBViQ4QVLkOEG/YTlBnYMYQfUoPEFnIzhBtc46Qc5AOkE0ETpBCEE6QY4BOkHlajtBNi05QYu/OEGJTTpBz/s4QRW9OkFrBDJBvx0xQZE3M0HRcjNBfOowQT3sMEGlPzVBigszQVcSMUEzBjZBycExQZkLMUGe+TFBjTM2QT1sN0EUqzZBO8Q0QcdNN0GecTVBmwA4QTSDNkGAwTdBGJQ0QRclN0GSbgxAzDMyQVKMN0FsKzhBYGA5QZEpOkH3SDxBOf46QU3FO0HE2jtBYaY5QS9vOkEkTj1BGZc5QQQ5OUGoXjhBNOE7QWVdO0HtDDtBDnM7QaZEO0E3LDtBXK85QWEjO0HA+TtBa2o3QSgEOUFF5TJB+RU2QT7wMUFGDDdBhFk2QeLEN0E5WDdBlyU2QfVCNkFs/jVB59I2QZ0pO0H0xD1BoNw7QQvcO0GBPzxBwUE8QfrVOkHzXTpBP2E8QRZAPEHI5DxB0HI7QabXPEGhJDhBV9k3QSbGOEHZ5ThBWnI4Qc8VOUEghjdB0544QaKIOEGiEDhBC4A5QUfrNkGcPzhBlW44QQImPEFdBDtBvH9+QM85OkG9uDxBvyMzQUUsPUFpUDdBD6s1QUHyOkHleTlBnqgxQXrDMkGGGThBBJk4QVQhOEGEKDhBQhg3QfJkMUGaiTJBOq04Qa0COUFOOThB",
          "dtype": "f4"
         }
        },
        {
         "hovertemplate": "color=3<br>UMAP1=%{x}<br>UMAP2=%{y}<br>UMAP3=%{z}<extra></extra>",
         "legendgroup": "3",
         "marker": {
          "color": "#ab63fa",
          "symbol": "circle"
         },
         "mode": "markers",
         "name": "3",
         "scene": "scene",
         "showlegend": true,
         "type": "scatter3d",
         "x": {
          "bdata": "I0vGP5ZTFT+WAbM+HrtuP/ujAz/yyCg/rOPmPpn73T6ZXb0+OKTIPoMwjT4gla0+X3IEwJ0gmD7o6Nc+lnW6Ppsvyj6Lvgs/TBDvPuIp/j5+fRk/QkOnPuzTlT7a9+I+Li+KPpHPoz7mrcg/J++JP/ZIoj9funI/85+gP/9HRz//Ip0/ii6YP24ZmT/5OVc/cy+sPyqhtT/voZc/zVU4P4MWQj++oNc/7XG+P5/N0j+RJnw/6WzaP+nBuD++QN4/9gDXPxkI2T8KDM0/pCbVP/vA3D+Pf5k/kjuIP3EChT87Kpg/ZC+XP5YoTT8kyY8/RzGSP1oQlT8L5oE/08OLPycBlT8yDpQ/BbdbP2JTeT/9mYA/l0cTP6YPUz+Sf2M/JRdqP55qZz9zyVY/Oyx0P3/Cqj9EBa4/Y9F4P1XquD+VIJw/WwmkP0HBiz+PvYk/d2qGP56MFT+1Uu0+SatYP4+trT8fraY/xuO0PzwHUT+CwrA/QL3MP9v70j/KytU/gZW4P+8+tz/e/Kw/3pbSP2sEsj/0Kqk/eBOoP3k2qD99jss/wpKVP8i6kz8+tYM/1qY+P30zfj/CWU8/iT6OP1DRdj8RxY4/m4KMP7vtFcAOGIA/JkOEP4jEqT9ykj0/jS96Pw16+790pE8/R68qP/bJ+j6m8yI/c+K6Piaj6T7de5Q/+9SMP/d/uz7fuHM/aoxDP9sazD8kiY8/8q4gP9yyTj//lGk/OgSPPzu8hz9uHf0+w+OrPwQQhT+12I0/srXJP4IVzj/b3bk/xhCQP58O0T+Utr8/cn7LP3ESoj9u/sE/h3uQP9GjkT9CI6M/lEu3P1MqAz/879Y+eMoCP//ZST7RlAbAEJjvv1lP779ujv+/8KHCPryS5j7kliA/QtnlPt2wCT+7l6g/8yyZPqI0hT+k1Pe/sRnHPqv5CcDnxMI/rXR3PuO5vz4UggE/OyGVP+7WW0COMFg/",
          "dtype": "f4"
         },
         "y": {
          "bdata": "z0owQVrYLkEi3i5BBOMtQZRoMEFAoy5BpJYtQeoRMEGGIy5BkMouQWmaMEGIAy9B+XNDQYPEL0ELOi1BCqQuQXyLMEGApSpB7VgtQa5pKkEYyS1Bq+wtQYvdLUEnQy5B5EMvQXTlLUEo1y9BQO8xQfERK0HsqS5BUE8zQamVLEEjsCtBbj4xQZrPL0Gt6y1BkbUyQfNhMkEcPShBiEouQc3HK0GkBTBB9LcrQbyxMEGFRS9Bs9YvQSfULkGUmC9BZG8vQQNeMEEG1jBBNGgxQQgkMEETkSFBepAiQSjCIEGXAyJBbwYhQQ1TJ0GsQSFB/HohQaSxIEE9nyFBqz0hQYiMIkEfCSJB/+csQReYK0EEVzFBMS0qQTMbKUGu4y1B7wwnQeeAL0EZiCpB6swpQXFdM0FYdzJB4rAyQZ8FNEEIrDFBziotQRG7LkGThDBBSAkxQRRjLEETVzFB7kwtQZ1kMkEYBC9B1WwxQSEOLkHSFChB91gvQRTBL0FOZTBB8T0sQbPZK0E3NyRBI/ktQW8sJUE8fydBCVgqQdtYLUFF2StBAvEmQU0AJEHBtyVBXlgoQYU9JkHY6ydB618mQaAeJkFq0iZBNsomQeBNlUFd/yRBi+gmQaSyKUHaESlB/RYkQXYYREHs2iVBnGQvQd3DLUGHHylBafQxQVC3LUHLMyxB0pgpQVFNMEH3gSpBMjMoQXYULkHD9yZBfOYwQT96KkHUEyZBqiMmQUPRKUFotDFBeo4qQeUHKkFCbihBO7MxQfgZL0HINjJBw44tQSwyMEGIJixBmx0uQZjnKEHjWS5BdTwwQeYLK0HwWyVBSJMvQYKdL0EysC1BZ7UxQVd7M0G9ikRByopFQX3XQ0FxPERBu7YxQcu3L0FppTBB/2YwQfT9LkEMTzVBk8E0Qb+nNUHrOkNBQgozQbTOPUEofTJB9PYzQZUyM0G78jFBi2wyQf7JIUFmTjJB",
          "dtype": "f4"
         },
         "z": {
          "bdata": "JZc9QZkXQ0FgmUVBPW9CQUmeREERkEVBf25HQfMKRkEFjEdBvzhHQfWBRUGVtUZBTdMTQaznRkHe8kdBPYxGQZQBRUGQd0VB7S5IQY1HREGTc0ZBaHFIQfrtSEH2yEZBBjNHQTaVRUEoMT1BwTQ9QWBjP0EC8DxBz0I+Qd1yPkGZ+D9Bjo4+QfDQPEHPG0JBX00/QZLuPkHWJj5BJP5CQZ6TP0FE5TpB3jA6QeOtOkHw8zpBLxA6QXUlOUFpfTlB3rI6QTUkO0Ea9jtBJ1U8QS0kOkGzCzZBPVA3QeCYNEEimDZBJEo1QXw1P0FxkDVBhd41QZZENUHLfzRB5Es1QbBBN0GjQzZBtQQ8QdYlO0HnJj1BM+o+QeBQPUH15DtBsF89QZPJPkEqjjxBHTM9QXR9PkGDxTxBHgw/QYBZPkH1pkBBnJhAQbSbQkFOM0JBnVdBQUPIQUEbgkJB2mNCQdZgP0GpIUBBkCE/QWLmQEEq8TtBESQ9QfBPPEF8QDxBJ9E+QUmGPkF4LDlBPYU7QdvXOEFqxTxBydU6QUMZQUFrvjtBODc+QcS8OkGhQT5BqHNAQWi8PkH3hj9BVvY8QfYtQEF/KkBBIV8/QWHLA0AFLD9Bbrk/Qd1nPUEra0BBD64+QRrSE0H8K0BBUe5DQeBVQ0FY5EJBb59DQU5TRUEct0BBxLJAQUonRUF1zEJBCDBAQUAmPUHjkz1B6e5BQeyJO0ERRTxBlJY8QWBOQEHzUUNBG80+QSnIOkGuRUFBkpA8QSzgO0Emuz9BA/dCQW0uPEH5ez1BKd08QSq9PUHvrD5BqvZAQaTtQUE5qjtB1+dAQYbqREHFxUNBsdRCQQ0yQkFGnRRBpUoTQdb4E0EOWhVBkjhDQWIXRkEnsj9Ba0lEQchXREEvpT1BcSRAQY6uPUHpAxRBCilCQbzNE0FwvDhBLaxAQVmmQUFj8kFBPu49Qdp2u0B62EJB",
          "dtype": "f4"
         }
        },
        {
         "hovertemplate": "color=4<br>UMAP1=%{x}<br>UMAP2=%{y}<br>UMAP3=%{z}<extra></extra>",
         "legendgroup": "4",
         "marker": {
          "color": "#FFA15A",
          "symbol": "circle"
         },
         "mode": "markers",
         "name": "4",
         "scene": "scene",
         "showlegend": true,
         "type": "scatter3d",
         "x": {
          "bdata": "rWKDvxsGnb/VkYK/NJyvv8ltjr9AW8K/B6eAwB84j78CCIK/0Y7LvzvKwr/VmNG/9UW2v/pLoL/gMqu/xf6hvyDqqr/C1qe/oPmnv+N8qL929qW/cMCjv1Gcob9LBZ6/8myrvyn5yr9O4sG/RLnhv/URxL/uaNS/nlX2vzLxy78MNbi/ma7Zv8yVvr+f9cO/mLziv5x+qr+Ucqy/3BX9v2qMo79EjaG/5bPOv/ZEor8JeoS/TVfXvxaMsL/MtYq/4+Cdv4bkkL+ENba/+a4KwALoB8AVkQDAV9cIwJkt9r8m+QjAjFgJwOjACcB/PwrAACUIwGG187+ffw3AQ0oMwHCKnr/CDqu/LEiRv6tZob/wRr6/lEKav4AevL+GYQvAGncGwFK+AsDoi9u/kQz0vywk8b/fGPW/tonSvzfN/L9HVbi/f0f0vxyC+L9fCZe/ENL8v648ub/4T/O/ekKiv6kt5r+x2Ka/I22Qv8V+hr8ZNny/106rv1XjiL+UjIG/Dzuyv2SNhb8DUnm/DGiEv4+spb+td7G/jku9v1IMs797jK6/d2itvwF2mb9/JcO/0v7Qvwussb9rXMi/X3nHvz2kpr8X87K/L0a6vycC1b8mTce/gWyKv8TvAsBN2IS/VrWxv1i2pr9UF5W/pmKhv31Nxb9dwqu/gUO3v1NTmL99tN+/8X2yv1p7tL/0qau/nHiyv5dZnb8tH7+/epy0v9bYpr+Blqq/LFiHv4ERlb/UiYm/LuG8v6jEC8D+gQTAwykJwMQCsr8CZwTAlRL/v1VT879RhgnAG6oFwEq/AcBB1AXAezAAwGnDz78TvM6/ICjTv38H9r+3MuG/IZHqv6+O57+vC+6/Pojcv4EB07+iXNC/saX/v+Ey4r/K5N2/dzdzvw0gz7+NkqG/l8/Ev4DApb+8cIS/GDiIv1Woq79aYXu/pbZwv8Cgnb8qz42/XwCTvw==",
          "dtype": "f4"
         },
         "y": {
          "bdata": "q105Qd1CN0ERvTlB6yw1QfYjOUGtXzBBUldNQWyFOUHktTlBb1AwQTmoL0HCBjNBtbIzQSi4QkEuOkRByg9EQfvrREGx9URBqRVGQYn8REFSU0VBqZVFQcmZRUHIv0RBNp1EQeZ1L0HtQTJBnSQxQRZVNUGTMTJByJ42Qd/nMUFplzdBdn8wQYDnOkH4xjJBm9czQdc7NUEKwkRBtww/QarHQ0HrwkFBY8BBQXobRUHQyDtBi39BQeVuREEhuz9Bo3tCQU82PEFTxkVBE4g6QRbjN0F82z1B/2w7QUYjN0GpvzhBRd46QX64O0GBJTtBUB89Qa9EOEHeIjpB5nY5Qf70Q0E2SkRBkndCQV8JQkEjgDRBZ0xDQX9aQkF16zlBYsuOQb2OPUHm5DBBkpA9QcfOMkFK2z5B7sE9QftBPUHs7jpBWn8+QWPqPkGT5zlB+0s+QQRLO0G2Ez9BxYA6QZOePUF2MDtBXP84QZ2lOEFJDTdBdlAwQb6wNEEymzZBGZQ6QUiVNUGBITdBuWE3QWqpL0EXky5B0XovQU3YL0HdDi9BqQUxQVttMEHiRi9BJS4vQS/QLUE3ey9Bfi8vQS1vNEFy1C5B25cwQd7uMEF6QjJB2oc5QRG0OkH86ThBTWY7QUSZM0ELGDhBe7Q3QfPgOEEUYzpBetczQeLKOEEpZjBBgjI7QYkCO0FKjTpBKzA7QT5HOkGhjzpB3rc6QcjyOkHkKzZBsnU6QabKOkFrYzlBnWQ5QSm3OkG8iT1B0tM7QdhfO0GeXD1BhKU9QWyqPUH4NTtBheM7QSybPUHDUjdBLl0+QV0VP0HtEzFBAVswQT50M0EX+jNB+XUxQYDYikFvqotBLmM1QZDqMUHP7zFBvHo0QYCCikErjTFBHt45QWO/NkGDgjdBV7UzQRxuNEGS8ThB9XU5QTSmOkF6UjhBen04QVJXOkFL6TlBGMM4QQ==",
          "dtype": "f4"
         },
         "z": {
          "bdata": "UB5awHE5TMCh50zAWWdIwBCGV8AoUzfA46gEQfkNScBIpFLA94A+wOBDPsCqUTXAuN9GwNs+J8DylSjA56gowE91J8D2FCrAnCcjwAbfJsBPHyTA6dIkwChrJMCTYybAVF0nwOvNOsAfF0TAnMs+wCaUVcBKGEfAeBpDwP/cRsD9k13ARMw2wNjnasBpmkzA2AJKwK8SRcCsnCnA7OA8wIDiKcDDBC/AYz81wP9nKcAMp0rATYY6wPBsLMBn5zTAaoYvwBL/PsBQJCvAwNE6wDRwNcCceUTAZug9wBrkP8DTRTjARfI6wG5hPcB+4D3Ay1BBwK05RcBuFzjAJ8Q3wN1NKcClhijAuZArwLmzLcDpGzLAmc4rwP9jMsD1fjnAFqzaP+AnRMCBnS/A2l9MwJImLcDW6UvAww9GwD/lR8DntWDAVe1AwCSNRsBJlWfApGhJwEXpbsAilkjAiaVSwKqhVMBn83HAspFbwKe3WsBfg1HA3SI7wKuZQ8DnX0zA9rZxwBZXScAP21TAVq1XwIM2N8DeizHA8lY3wGDnMMBOgDPAufk3wJAKOMCspDTAj1QkwLBcL8ALVjHAVYc9wHwFTsBh4DPAnLNBwP20L8AO60jAjr5jwLn9P8CpU13AogFxwCW9ScDFc1bArlpRwBE9X8Cism7As5lUwJrDXMByNz7ADTF0wOGNc8BkD3PAw791wB+TbsAQr3DAxa90wHG8ccBX7VHAwABlwBC3YsD3LVPANNNtwBYvOsD3SUTASw49wADFRMDKSUHAKqA/wBtNScBUYj3Ab6I/wCWrRMCSHzbAq1U/wJUJPMCibj7ABFo+wMLaO8BiAU3AFQM2wLfMB0B2uwxAcupTwBjARsALGkXA55kywO2jBUD/4ULA/69WwEY6XMCk21fAFXdPwB5pUcAh6mLAuFZiwDZYcsCTVlHAJ7BVwNZCbsBTA2PA075YwA==",
          "dtype": "f4"
         }
        },
        {
         "hovertemplate": "color=5<br>UMAP1=%{x}<br>UMAP2=%{y}<br>UMAP3=%{z}<extra></extra>",
         "legendgroup": "5",
         "marker": {
          "color": "#19d3f3",
          "symbol": "circle"
         },
         "mode": "markers",
         "name": "5",
         "scene": "scene",
         "showlegend": true,
         "type": "scatter3d",
         "x": {
          "bdata": "ojLtPxlAfkAktXZAsmt0QO1EekDOe3lAO2t7QL9vdUALy15AXuxjQKuvb0A8SIJADetxQPrehEAfEYFA2a+DQK3LgEAqkYVA+2SEQDfmekB7FX9A242GQAvihEDTioNApQaGQLhOgkCIdmdAp4aEQEoUckCfCHJAGK1YQFN4VEC7HW1AMF5uQB9JcECA/2JAN8tpQAz1XUBfg4dA6V91QDcMeUDlVXhAaLhzQI4Wa0Ckttc/Xf9vQB7/a0Co3mlA/bh4QIkmcUBjw3hA0dVrQGNXYkDuKV9A7pRmQFdUdUBunltAOr1mQCI+ZUB2umlAuKdZQPBBXkAq5mFAnMFpQCe3XUBEfl1AHw1yQMeyeEDIrcG/uDt9QNDQekATxnZAGlFVQJK2VkD3I1dAtXaAQJ6Re0At3oNAesCDQMGWh0BI4oVASbOBQNLAf0BfV4JAts1+QNWvgEDUUoFAO0R/QFRSg0BUwYFAVRuGQEaDakCULl5APiJUQIitWUAf7WVAjqdXQNwhVkCcImJAYt1aQOJeb0Ax2VlAJ5xWQNIYYEASWXdAyBR6QIJLZkDVx3BAKdJ2QPCHdkABvnBAwytjQO6Ed0AjnGZABttUQEiBd0D0oF1AG8NTQDPOVkB8doZAGAFnQHO0ekAGH39Ak6hRQOkgfEBm8ltASiaIQGTdhkDqBYBAlhR9QD3LWUAlil5AdcBYQE5HX0DOClxAR8t3QH9BXUCV+FRAHC9MQCnAYUCSvnlAkl1SQFjhdEDxFGRAS9ReQADfVUAtw1hAsMxdQAmFY0BB3l5AuMhbQGVAVUDSKWFAMVpaQMDwWUDJBGVAwFGDQC1ygEBxVHpADbt/QGcOiUBbDoBAO/OGQFjHgUDsIGhAx6N6QDbMhECwJXhAVoV0QJWTWkB+6VdAumJaQGRJakBwAmpAMNR0QGSjWUBcjmlAHkNWQHUyW0AIjFNAzflVQFoxWkA=",
          "dtype": "f4"
         },
         "y": {
          "bdata": "mnQPQeKeI0GsdR5BU4EoQYUyJkF3/iVBpaIgQXBbKEEFDCNBwVckQe6vH0EknSFBI3klQZccIEHD4SJBCsMdQRbjIEFYqh5B+MgeQc53IUG88x5BaiEeQRIYH0F0dR5Bk8geQa1RIEFipSxBpcwhQfXDKUFvTitBPxknQb9cKEH2aStBIp4jQf8VK0FqHixBP80lQZ7xKEEAgiBB6cwpQcBbJUGWGydB1uEqQR+YJ0HjxwZBRm0pQQjMLEGe3CZB8S4pQZ7+JkHveR9BAxsoQe24LEGUAyxBSdMsQRVRK0E9SCtBNkAtQc+DLUERbixB6vUsQThULUEeBixBOz8tQQEHLUEHoihBNQ0eQbh5HEE7+jxBp8keQSt9HUGnDB9BKSMkQe0NJUHV6SRBMa4eQWI/HUF1oR1BQv4hQcqSH0HpGh5BhIsjQSHpHEFRcyJBhZ0hQXAMI0GTYiNBH38jQV4cHkE1vSVBsZQgQcedK0GvbixBtzEpQcICKkGeritBFe0pQb1DKkE45CpB1dEpQW8OK0G8zSpBYHQqQSV0KkFbuCNBEbgmQRI0LEGJ8yRB6GYkQdd4IkE9rSdB+mwnQZV+IEFCryJBarklQaJiIkEBHyRB1EElQXPaJkEn0R5BZ/4nQd84JkEJliNB6BAkQTNeHUFyEiVBErsfQT6iHkG/yBxBSqgdQRnmKEFqPyhBAjYjQReQJUFdBiRBu8AoQZg8JUFDGiVBLpghQYzOIUGLciNBZtElQbLdKUFA2CtB8igqQYbBKEHKASlBz3QpQXEFKkEJ/itB3PAoQSwFJUGT3ytBCLwqQb04KEEaAilBEhIeQW1HHUE/iCRBoxElQTQ6H0ErEh1BTiceQZVLH0GXSiRBPYwjQT2/IUEKLh1B+zoiQUDBLEEcNSpB6GwsQUZ/J0Gv1ipBsVwpQXq8K0FeNy1B87MrQS1JLUEnxilBV1QqQSEJLkE=",
          "dtype": "f4"
         },
         "z": {
          "bdata": "ip4gQZEPp0DktJ9Alia7QK4KsUBfHrFA5G+kQOIaukBnz7pA2hS5QHMXqEBdkKBAHHm1QHR4mkDbA6ZAoDmWQHTkoECVvZZA1VyYQMr9pUA8tZ1AAZCUQPRPmEBD6JdA7oyWQLEVnkBKvdJAJ6CfQDCvw0BXwMdACobQQBVL3EBFfMhAFgCwQKlPxUAcINJAnyW7QLaE0kB/MppAH0nBQFmwsEDd8LZASt/IQEB4v0DeqRxBHATBQLVRykDe7r1A1ha9QI0tu0BPuqJAXC69QOZyykBtNtNAI6bPQFQ7xECLENpAferQQMr+zkCqx8pAG1XTQNzr10BavcxA6zDKQLHj0UBnzsFAu4OhQJDymkDj0j/AcwGcQNMMnUDCpqBABh3BQJdEv0A0ssNAAbCdQOLimkCoEpZAuJ+iQNeflkCQCpZA3tOmQAsMmEBISKNALIiiQFqYpUCUVqRA49qnQEobmED9cq1A06qaQIkOzECdHtpA1hbjQGk53UCUMtNARRLgQIlk4kCVcthA6azbQJuFykCzAOBAsFvhQAym2EDCh6pA8YazQJ8pyUCGsbJACm+tQN9mqkA6nrtAek/AQINHpEChEbRAMOjDQE9yp0CUxLlAXL/GQMk3yEBnJZZA6/LBQC8Ss0DcEadArsrDQCdCm0DnWsBAJ4SWQN/plEAP3JdA4GmbQAKh0EBWactAryS9QOv9wEAkHL5A+Pm7QEGkwUBal8VAHw/AQN2+skAaT6tAvknMQAeav0BTGc5AXPfYQMKA3UAvM9dAndzUQAT000AvetlAGP/TQKafyEBhltpAeKreQBgGzkBHqsVAkWeXQEs7mUA+k6tAUZOjQPUClEDVVZlA6YyUQMz0mkDzu7VAS6CkQCQhoEBX3ZpAvFemQF1CykANJcRArtbIQIKNvEChv8NA5529QLZqxkA9OchASK7HQG6E0EAS08hAEn3HQL3qzUA=",
          "dtype": "f4"
         }
        },
        {
         "hovertemplate": "color=6<br>UMAP1=%{x}<br>UMAP2=%{y}<br>UMAP3=%{z}<extra></extra>",
         "legendgroup": "6",
         "marker": {
          "color": "#FF6692",
          "symbol": "circle"
         },
         "mode": "markers",
         "name": "6",
         "scene": "scene",
         "showlegend": true,
         "type": "scatter3d",
         "x": {
          "bdata": "gG8wQNZkK0D4TC5A8gM0QJR+L0CEeCpAQsUoQBrXD0CSsC1A0D8wQJW3WcAuaDZAGrIwQB0cHkABQzhAwwsuQD+cFkBA2yBAFZU2QGkCHEBqRyNA5Z0ZQORsLUAe9kJArhogQDsQH0CdoB9AoScOQDwFJkCTWxhAOQ0PQD3REEDzdBdAlWckQAmrGEDeeR9AboQaQHGODEDdmzxA4tZJQD7JSUAnTUtAOjguQL5BSkCU50dAzk9HQNTrO0AxeEdAcHBKQMq+RkB61kjA8U8+QDXRJkAp4ixAWao8QHHTOkCJNTZAtak+QFB2K0Dm9jxAHHY8QP61QUC/bTpAaoc/QNxvDkA/cw9AF4cQQEi0G0Bw3gxAeiISQH/THUDn5w5AFdsYQBATIUDZhxdApAsiQEwNI0CcyDRAcqI2QFZpSECyzDFAMMY+QGM6SEC4hCtAOLJCQBZhKUDd0EVAPLs2QBwkOkARkRBAj4kMQD2VC0CaoBBAdIsWQAQqD0DcGSFAtyUXQD7tD0AEFBJArd4fQCfPG0DpsxVAeeEjQKOoGECyBihAQawWQEuGLEDqyTpAP3QOQF84JEBAABlA5uAkQPxjDEDPBB1A0pcrQEq+HEA+XhlAtMI3QMwAGUAMLyBAnYZDQGJuIkCJWzhAltMxQLWcJED9NiZAMIMhQG50P0DX6ypAYus1QJIsLUAK9yxA7JQwQM6oQ0AxlU1ALLREQCl5QkCJeC1AI+8rQI2aK0DDMTJArrhCQBIBJkCHRyhAY+scQCB1L0BfcCFAA/UYQGaTDEDRMiJAmtgrQLJjJ0CATCRABzYvQKRFIEBhTDJAueg7QInSNEDnR0BAJNsxQKWjMUB0BTlAwSczQJhZNUC3XTZAv00kQKm4OkBFkUZAIbglQIR3L0DwtTZAOJctQIA7OUBJtiZAZ4spQOFAFkDnyStAwN8oQPulJkCiOjBAREQrQA==",
          "dtype": "f4"
         },
         "y": {
          "bdata": "LTaUP9Brqj/x04k/zG2qP4LGhD8cQIo/E+iCPzFsxz5gMZM/GHijPw3DQ0EfUXQ/QUOlP5BBOj6LuZY/XcWGP4dnpT4nZvY+61SXP57VDT8wQLE+qWP/PlIHnz9q+zU/J7gqPr7nXD65uu0+esdbPtjlcT/DLag9ysacPkpyxz7wqEE/mSiiPyii9j3Aak4/uTSBPtDE7D6wrCc/dBRlPxR4gT9j92s/QXcbP6xRfT/Cl18/WJp5PzyZcD8mEoc/DPd5P49Jhj+pp0FBu1hMP3YVDD/zqxI/law+P+xGTD/xJxk/0B1PP8GJpj5Qei0/vp5LPy7HRz+BtU4/PUE+P6pK4D78Tdw+p36UPpkAQT4z9Lk+iRCZPRwOTz9DOOM9xLedPkSclz+sgxw+MFmcP9v1nz9aA8Y+Qx+9Ps3ibD8oDY4+GDibP7KYeT+chn8+OW8tP2ccgz72dW8/iZHrPspZpz/QmUw+n64iPp9pEz7aNKU9XKDVPqnNCT4W+88+3aFxPt+KJz4GXhg+5UqDP6scJT9fsCU+1KJMPonbuD0tqFM+70oKP6hdpz8a1YE/BmImP3jCkj9SU1k/ZE+LP4D9CT8PcyM/WQx9P3RTFj9nZQ09WTFCP8EGeD/ziXI/gj+FP1mGij+vq38/KDx9PzEBQD9R2Yk/Da6BPw1WSD+S8pQ/HPahP7GupT/N6ZY/gxWaP1D+jj9KW3E/E3KHP+Sdij+J4pk/x++hP5gioz8y/pQ/nGhgPwgJLz7pDjU+wTisPS9q2z6sxxA+BeGtPW8Zcj0zm7Q+RI8YPiT8ij7ggtA+4s/NPjlbWT/eya4/X26lP25Mrz+LlJc/dtSsP4wDnz+D9as/KaymPzR+pT9xDbQ/1f+fP5uzrT9o1pQ/H04tP7I9ij66Bh8/dxDkPvuR+j6XFFg/HtC5PqJvwj7PV2A/RA2YP3PJWD9686I/fIGAPg==",
          "dtype": "f4"
         },
         "z": {
          "bdata": "aQkgQKYVAEDqrCVADoT8P7ZkIUATbBJADiUlQKnYGUBEWCBAwjEUQBRlBkEb/iNAF3ocQAw0CUCcieI/xnEcQHOPFUCNLR1AMswRQHVzHEAnzxRAVfQfQHNxEUA+AvE/Tg7tPzxW+z+vswNAk9EWQMz9C0BDKvk/I1MMQETYD0Bs1f4/xeEOQHdb/D/KhgFAsY8HQPypEECUNAJA6JLxP/6g4j8rN+g/2k4AQJVM4z8oSfU/xZ3cP4FQGEB1It4/qFLdP2ud8D8y8wlB7lkVQF6cCkD8twlATR4bQIWdIEAkYxZAe0IYQET/BEDZKBpAcBkiQBD+EkD4ih5A9i8aQCZ2E0BP9w1A0R0OQANFE0AJBhZAaoMFQG7e8j/SGAtAbz3+PyxWHUCjy/o/mPEUQDCjFEC6LNw/k5LXP+hN4j8STuw/Y/QGQNiXAEAshvE/K47SP6dECECcJdI/3AvmP9oqAkAWyRJAMykMQHnrGEBtmAVAt3sFQG6hDECJEAJA3wICQC/aCkBSfANA2yIGQJdv9j9nDQFAXpfrP/Kr9z881ug/zeIFQNwuAEBQ7RhAVF8XQA3/7D8JBwpAInodQHMJFEBhj+o/znAnQHg36z9T2PI/Ug4gQB/oAEATzPE/jqvWP8og6j/vqwxA08oTQGCa4j8Hd90/jmLnP8pXB0AJbd8/nwHcPzbm5j+8A9k/4SnYPygg6j9JBeQ/7bDYPx9I6j8uu+U/0PjhP79j3z89UtQ/TeXQP5aq6T8eFOk/M+vzPzYL/j98RuU/ax/6P8ZpDkD+bAlAFJ/jPzx55T9X6Ps/tMDqP9N58z9/eeI/CEfyP3UCFEAtPeg/LTzlP08wBkALvglAkA3mP98k2z+wogFAfJLyP0byCUCH4AxATPsjQOM8/T+K7hhAMgIZQAgtBUBm0ylAGPYVQL1QH0CjfCdA4ewhQLlcJkAuTSBAjWL8Pw==",
          "dtype": "f4"
         }
        },
        {
         "hovertemplate": "color=7<br>UMAP1=%{x}<br>UMAP2=%{y}<br>UMAP3=%{z}<extra></extra>",
         "legendgroup": "7",
         "marker": {
          "color": "#B6E880",
          "symbol": "circle"
         },
         "mode": "markers",
         "name": "7",
         "scene": "scene",
         "showlegend": true,
         "type": "scatter3d",
         "x": {
          "bdata": "QF8JwIlS5r9ThBvATssQwLNHBcA/7xfA4TrtvwGBCsAT4xbA8KPTv8NxBMAQBfG/AVztv5tX278lL9S/0hHDvy3oF8C1NfK/l+fev6Y0xb+Kbd6/wRK9v+CzDMDbydK//a/Fv+AOEsAfROi/tjH7v4yD2L+yffi/9oUWwLfTDcDHD82/3/DPv/UfwL/gfb6/P8jXvzwb+7+XBem/3/3wvxSv778TlvK/LGzlv6+f8L9tYfa/vj70v2Lc67+M6u+/Ywzyv8/5779Lquy/v2Xlv69HA8CsHRjAafn9v0yICsCqG/G//98WwOUY+L/dxwrAHu/ivyhIAMC+MdO/HVcLwM/rB8DwxhnAAvkbwGCuGcBgshbAV/YcwI2IG8BHWiDAF/AewLbwHMC6JSDAvwwewOOjBsCvE+S/IePrvyy43r8xIMq/CNT7v61QwL/4xem/DtXovxgaFcAwOr6/VYHWvzEg5L9fvvO/qt3Yv2sgwL9QDNe/Bci7v7/z479mO7y/UJ/Ov42z6b9AK8u/APfRvyRpwr/xnMe/a7nJv0ILyL9FGca/tmm+v3NKw79YH7y/ikGxv7a737/qgK2/7X61v4BgBMDJdrm/AlS7v9vP/78tNwTAa28ewLk157+HXQDAo1AGwJfLAsCNhOa/7Xzgv7Xo7r855uq/HWQawOMJE8Ac8+C/Il/5vw3m97/chuu/t/D8v9de379Ifvq/sM4CwHjMvL9R8Ou/u6LJv+QsEcBkpAbAmyLmv/gD8r8M2+K/2Bzfv7qn1b8BhgPAw4Pqv5J3/7/WBdu/Exvov5sJ5L9HvPy/0Y3jvyrf3b+iQOq/j1vRv8cEz7/DstS/E+DTv/Vm3L9j6rm/nRfhv1JJ8r+SL8y/J5PAv/hTBsAjwgXA70wHwKiA3b9ANh/AoHHUvxBh0b+Jj7q/i4vIvxbSAcBcLe2/37kRwMN4zL8=",
          "dtype": "f4"
         },
         "y": {
          "bdata": "0wuQQZHKlEFGiJVB6PuTQbazjkFeLZVB9wCVQW+3kEElDJZB1RaUQdCLlEF5D5JBIlqTQcd6kkHkNJFBRZqOQbeUlEHx65VB3ISQQXjvjUH3MIxB7gmPQfm+kkFUsY5B3fKOQUIjk0Fjl49B10uWQQu3j0F3JpdBQXCVQfCYlUHGNJVBA/CUQUv8j0E8D5BBtn6UQRC7lkHfXZZBiciVQQVSlUH/dpVBqKqUQZo3lUFP6pVBNZeVQfwvlkGTPZRBPe+VQSyOlUEhYpVBRZaLQXiTjkGke5VBG/+TQVoukEG+hYxB9YCUQVuwjkEhXo9BANaQQQa9kEGdJ41BlT2QQXA6kEERnZRBLPyVQeQvlkEBg5ZBeUGVQV6vlUHcL5ZB7t2VQRjUlUEp45VBARCWQfVHkEFEMpVBOhCQQXk0kEF8Vo5BWbKUQUH6jUFz9JFBczOSQQlvk0FBoY9BapeRQcc6kkGvFo1BVVWXQaN4lkFHwJZBuaGVQbRMl0HNHJZBXhKXQRbvlEEMAZdBwQOXQbNilUFHAJZBYiGTQWSjlUGtz5NBIAyVQSQFlUEeRJNBxGGTQRscjkEPYZJBba6UQWkCkUFFSpFBlSWTQYw/jUGmNpNBlzCVQRJ0jEEuN45BfkePQRXDjUEAeIxBUE6MQYwRj0Fqd4tBNY6TQdOlkUEXy4tBzm6UQd5DkUEmAZZBaYOQQfqDkkEgI4xB7bWNQXlgjkH2x5VBcluPQUGflUGAxY9BGBGXQYWrlkHqHJdBz7mWQeddlkE0CJdB8MuWQRonlkFs9JZB0eGWQcHVlkFxsZZBiDuXQRziikEON4tByDSPQdlQjEFm+otBNFiMQZ+tjEEbiY5BFtKLQcrMkEHo2o5BFkOOQXRjj0GIrJVB5cKOQQ3SlkGkgpVBWaKQQTzIkkGbsI5BPnGQQaaikkGC8YxBDROSQWS1jkE=",
          "dtype": "f4"
         },
         "z": {
          "bdata": "Zf3rPw2y1z+CUPs/+P7kP9T75T+gZPM/ms/YP//P3z8Yifk/47nbP0dF2T9iMs4/xiXaP72Ruz891rc/bga3Pw019j/mff4/Iu23P+q0tz+Fq9c/2rmsP68U7T+4IsI/j9yyPwhD9T8Uxcc/DHn9Pw6ezz/jBgxA4AoBQLZaCED9At8/mh/XP8HEuj9cy60/PTbSP6O/8z/fniRA03EqQDGyLUDbYStAtnYhQABMKkCFcihAT/grQCsHIEALdTBAXtEmQLbPLEDmpChAncruP65c6j8YXwJAx7XSPznq4j+FfeY/FvP+P+LT2T+db+A/CT3EP5Hyzz+uA8o/iK7oP2KL2z9hy/4/2wkHQEsIBUCUPglAUe77PwnMAUB8ogNAQEQCQDoqAUAse/8/PZT8P5Rd2D+zweE/S7vDP5k4wT8sd8g/M0HnPyPouj9dHcs/hJ21PxmI7j8kx60/Tve3P0WGvT/nTvU/0mUNQPsI8z+mdAtARi3wPxhEDkAK6PU/hGAFQED25D+23QFA+ZkIQM3W8D9fj/s/XIHnP/D16D+8ht0/gEXoPyPa4z+ba+I/gVzpP8Xg5z+PTN4/Bv/gP/an8z/KvNU/wU7jP2bd5z+E4ew/+R79Py+I4T/85OQ/lR7iP42A7z/qyN8/MQrbPwiEzD/jovE//vXwP5828D9NI+I/A87sP+Mo4T8E0P4/MzPnP87E1j8pY+o/KvjmP0Fpsj+Ib+o/42HCPxfK7j/AKes/v98KQCbXGkAlwA9AEGQGQO93BEBgNBVAvYMHQPeEAkBm9gJAorYJQJ1bGkBhnA5AnWwPQKr28T9SxPQ/vVPJPywq0D/9S9I/gZPVPzcb1D+PBr0/sJPiP9hSvj/NfLg/q9rCPwDE2j9lDeY/aoLhP9gu/T9Buvs/L6C6P4extT8mDK0/t9iuP28B0j8esdo/gJbjP7eGtT8=",
          "dtype": "f4"
         }
        },
        {
         "hovertemplate": "color=8<br>UMAP1=%{x}<br>UMAP2=%{y}<br>UMAP3=%{z}<extra></extra>",
         "legendgroup": "8",
         "marker": {
          "color": "#FF97FF",
          "symbol": "circle"
         },
         "mode": "markers",
         "name": "8",
         "scene": "scene",
         "showlegend": true,
         "type": "scatter3d",
         "x": {
          "bdata": "EgYVwOc+HMDhOSvAMd0dwAP9J8DIZz/AXF8owAfYJMB/ZTjAB/44wM/DV8BMWz3AEPhtwD62JcAYZBrANEI1wMfgKcA3fFTASI4kwKIjLsB/0DfA+U9LwH+xOcAiSC/AgQ4+wMBJK8AjtgjALA0hwNmcI8CfxSbArZUZwNkx+b+F+AjAKl4fwBj9E8ChGsU//WQGwIHCJMAvCPe/USUfwKrez7+c1gbA3IwHwDbJ7L8r7wXASNT/vz2I3r+ZmRnAibQlwAcn/L+ogQDATg1FwPGDO8D/sTTAJsI/wM7BPsCGJD3A22NBwKSuP8Aq5jDAqzJCwOS5RMD2ZUHAYFc+wMZoDcADjxjAYR0SwBBqG8A9hhHA01QjwLml/r9pyyrA7dYvwMCyAsAsxy/AX8kPwKx8JMCXUyDAZAWKwM3jMsBaD/6/ndDav6D6278cBiXACO0xwC1s4r9ZUOK/eJTAP5g/5783UWPAEicKwBLsC8CQoxDAYFELwL24AMAnzgbA72UBwAH767+swQ7ApBrxv/gLC8DcKSbAGx4YwCugE8CyzQ/AxHIqwKMjFcC1AhHATPkTwNYTGMDwWhDAVXgiwDI+JMC8HhrASN4JwGtTKsBS4iDABiYWwKv+E8AYNB3A9MQNwPJfEcCsPjzA38sowMwWGsCKJB7AQhAbwJRXKMDl0y/Aw0EowLDuLMB0UDzAFCsmwGnVPsDY4hTA7U8fwOE+PsCspivA8+wZwHit7L/RKPC/Dif7v+Zf77/CyPO/83TUv27s4L+eM+S/UGHdvxUq4r+eruW/m53av29B4b/hKm7Aom9DwKfJOMCsXzrA8HEnwDCXQMD8zjPAp8wvwDnIOcCe+iDA/HEhwJsSIMADKBbAquMZwK0OFcA1siLALRgxwNQGH8D4kDbAAz1awB/7P8BfTx3A",
          "dtype": "f4"
         },
         "y": {
          "bdata": "fpw0Qe/EQUEbQz5Bhn5CQYrWPUHvcj9BlPA9QZl9QkFjDD5B1NJBQcsvQUH/UEZBjn9LQYHLOkHZbzRB1CxBQSQTPEG6MURBass2QVCLQkEdVTZBXg9BQTRnPEFMBjlB55E2QWiIO0Ezvi5B1gA9QdikO0FMfjVBb6k0QQy5K0HG1i9B6io5Qc+qMkETAC5BBDIuQa5KPUEckSxBP4Y+QayaKEHtczBBAakwQWpTKkEgGzFBwCIwQezTLEGQGjdBLJQ6QTJxL0F8ui1BwCQ3QRCNNUE93zNBr/g0QYIYNUHhnzNBA8c0QSyFNUFfODRBnHw1QR33NEErUTRBDCY1Qd53MUGN/jdB09YxQQLkMkEO2jFBoho7QVsKLUGmkjlB11Q9QbVYLkG0MD1BqNwwQb0VO0GaqCxB7gFSQQ29PEFgoipBGhcoQZEwKEFKxTZBlIMxQTRNKEHqJyhBO9UwQdWeJkHfD0lB6L8xQTE3MEETWTJBxPMwQY7qLEFX7S5BCtsuQWobKkGGvTFBrEEqQcVCMEEi7DpBszhAQT31NUEwjTNBlmQ5QfI1QkHwgzVB89o4Qe8gPkGvmTZBw706QYDCP0FQ7DxBpiYxQQKIP0EXpUFBpUVAQawyQ0EZ8T5B+PFBQRv+QkG0DjNBoeFEQUu4QUFsB0JBZTdCQaOqPEEOcT5B79s/QS96P0Egbj9B87w/QSnfO0HwGkNBIdo+QVqkQUFDjT5BzJdCQR4AK0FHXSpB//4rQe19KkF67ytBojMoQdU5KUHvISlBIQAoQQyAKEEX6ChBfP0nQQ0gKUEZ+UtBXl1IQQekPkHTvTdBmtQ+QWy4OUGO/DlBFiE/QZokQEF8gjtBQmRAQV6EO0H31DNB9LY/Qc88P0GbWzlBRFk+QTAWO0H120FBRYJCQa1oPUFlTzhB",
          "dtype": "f4"
         },
         "z": {
          "bdata": "utgXQXfmEkEW+RRBQr4NQf18FUH+UBRBr9MMQeVdDkHeiA9BXNUTQRO+EUF+JwxBHZcKQStkFUHjFhVBbGAUQRUpFUFUGhFBT9MYQRRXEkGbFRtB1d4TQcG7FUGXMxlBFbUaQQ0lEUHXbRdBx/wMQWCgDUGQshhBHNoVQSHdFkET6RZB1/IRQfJtFkHCpzhB+XEXQdLRDUGKGBdBZAATQU2aFkHYIRVBQJAXQQ+EF0G6qxZBeKIWQXmuF0FBzxJBRqoRQd9dFkGirhZBNGcaQWzpGkG5oxpBO2kbQbe9G0HZ0BtB+R0cQeWsG0EfHRhBN24bQRqEHEEsgxxB3JwbQbPAF0GJ0BNB+YgWQcPkE0EV5BRBpEMOQfXAFkEYcg9BJQ4NQekAF0FxfAxBdFoWQTQADkH8zhVBqwncQMpNDEG+uhdBdAwWQanVFUHycxFBO+gSQSABFUHfORVBy4w2QcUlFEEFXAhB2zwXQUFxGUHiqBZByDQYQa7CGEGjARlBYn4XQSxxF0EP5xhB42EYQepXF0H0BA5BDWcTQezRGEFd7BdBo8AWQV99EkG07xhBrmQWQUZED0FMURtBrlwXQV4tFEEgOhdBhKsYQYJjDEHONQ9BaEgPQaKeEUEjegpBRHIRQW1vEkG7BBFBPVAOQdc0E0HVLxNBa9YRQRnlDUGqIwxB9wsPQQpYFEEbRRJBDR0OQYguD0G4FRNBMewWQT7fDkH+egxBy9oRQSu2F0FBhRdBL04YQYmzFkGP6hhBij4UQQE7F0ELYxdBvlcWQZBsFkFQixZBSxAVQfJ2FkFPYAZBS5QKQQ+yDkETQBpB5NQOQapJGUH67RZBwjUUQb4tFkGxIxlBJu4TQRnNGEGP0RdBRgoRQWVKD0FQnRhBkvgSQfjrGUELARNB4kkTQe1IEkFguBhB",
          "dtype": "f4"
         }
        },
        {
         "hovertemplate": "color=9<br>UMAP1=%{x}<br>UMAP2=%{y}<br>UMAP3=%{z}<extra></extra>",
         "legendgroup": "9",
         "marker": {
          "color": "#FECB52",
          "symbol": "circle"
         },
         "mode": "markers",
         "name": "9",
         "scene": "scene",
         "showlegend": true,
         "type": "scatter3d",
         "x": {
          "bdata": "LdTBP0ZWFEDX0glAvxsTQE/QEkBsbOs/x4jkv3XeB0C63+M/rM0RQJ9sFkACNdQ/ZFTiPx4aDEBfl/E/pYwBQJVHDUDINwRAP1YUQK6d3D++UM4/p729P08hA0BugsA/DOK4P3759b/EzPm/DYL9P6yLEEChvck/w4ADQBta9b9j6/O/3Tz3v5ot9b/Nb4bAYmiHwKJC+b+VrOE/HEH8Pz4z+D8oNdI/1AzOP9MZ7D+B/uA/tPLJP6OdzT9rV9Y/ounbP0n/0j80H80/8UXQPwMW1j9aWP8/at8ewAhh3z8LJ8Y/WwXVP2fk4j+Wyc0/GBzcPzQcBEBj69s/OOrsP30RiMCWdYjAn2SHwDXMh8AXm4jAZaOIwC+Th8BpI4nADvCJwBdziMDuyYfA0aOHwBduhsB+YBNA4qniPxwtBUBxmOQ/recCQPxL2z8LSwNA7v3GP1D+3D87yQdARUzfPw4w4D/89Oo/d2YXQOTMC0ABGg5AiyP1P79l8z/gGRRAN+8XQFm4FUBF/w9AM24QQBCQCEB1QglAdAYFQBM21T8xBApADQsOQMbkrz+2oA5AjUy2P15M/j9ii74/3kcRQBHq8j9jbO4/jW8GQD315z+MTN8/1PoZQPC3vz/Ykec/KqTYP5t2+z/s5PM/EtO/P2f41z9h5tg/+MDDP/sK/D/WTcI/aqgFQNLo/j+Rbec/88fqPxSR8T9fPc4/c48RQF2V7z9jgfk/MY7eP2x64z9rmOE/3uL3P+8e6D/KTQdAzOr2P5Mq7j/hQfU/9GwUQLjjAUCvx+w/YzwOQDl25z9/tOE/kTfkP5VriMADx4XAgjSHwEaRhcD4Yfu/vad6QFaChsDS8hdAfVP0v7zpD0Bixz4/7ZeDQBAZ+L+QDPw/9JLSP2D8D0COtOY/1njgP4gX2j8LlNM/sf/5P9O5yz9Mpcs/u2XbPwrFzz+IG6g/",
          "dtype": "f4"
         },
         "y": {
          "bdata": "FcoTQUwTD0EsXxBBRX4OQQX3FkEYOAlBm7eKQQpFD0GrlwdBHE8OQeNZDkFFlA9BfXAJQUTVDkFuVw1B/RsPQUJ/DUHWsg1B+24PQX7CEUGQMg5BiAoRQTalDUEV5xNBKa0SQTs4kEH8049BsNELQbqcDkGpaw5BaS4RQamQkUG7d45BfuyQQXABkUHQD15B5YpdQTCQkEEMwQZBMwkRQfVlEUEAPxVBar8UQUHgD0HfshBB9awUQX/UE0FxyhRBHqwRQdP4CEEUHBNBlDkWQa32EUFpChZBfA45QWzUCUFUthZB+pgJQdI0DkFkXRZBPQ0XQStzDUGXbQtBH4sRQaUpXUEp/VxBLDZdQS7mXEHAL1tBefRcQcOvXUEIultBVo9aQSTZXEFVcF1BOYldQcQnXkEM3Q9B63MJQYatD0HzPwlByqIWQUZ1CEFO0gxBgOoRQfhyCUFkag1BGUIIQSG4CEEMRwhBbh8RQRiWEkGKlRJBvDANQZnkE0GRvA9BRDwQQb7LEUFt3BBB1RgRQZfsDEHXTRVBkJgRQTtMFkHrPBZBn3AXQaPJEkHQnxVBNCQSQen5FUEvIRFBBhAWQXeYD0GXUBJB2FYXQXjSD0H1BhVBDvAOQcf9E0FrZBFBbrcOQTo/E0F/rA5B3cAQQbxjD0FoWQ1BoqQQQcnCCUGtBhBBIA0SQeQcD0GTmw5BJLYLQSeeDkH/xxNBg44NQUM9DUEUmBBB7S4KQWhEDEHwawhBCt4JQaG4BkGgCA5BYYwNQWx0CUGLDghBO6QNQYE+CkFl0gdBFpcNQZzqDEFDuwZBGIkGQdcsXUGUZV5BgtJdQXeTXkGvI49BDrAlQUcsX0FKAA5BE2GQQQsCDUFS5DFBcMcjQUvqkEEsJxNBTTsPQZHVDkFACQtBDEUIQZKjCEEBaBJB1RcPQfj+EEF6Nw9Bj2UKQaj+C0EcxRNB",
          "dtype": "f4"
         },
         "z": {
          "bdata": "+SkcQX72HUFfPiFBoQAfQcLFHUHYuRpBobUEQP7sH0G2aRxB8lQgQQw4H0GMqRlB+74aQcDRH0GryB5BvmUgQWgbIEE9sR5BMmceQWTmHkEEAx9BP7saQSkNIUGKKxtBSdMcQUfHMUCq6yBAACYZQdHuHUG+9RdB5+AXQadFMEBAQBxA2icoQH1UKEAE5bFAliazQPqtLUA0fhtBZdEfQVsYHkGedxxBjPwbQZqiG0HGxxhBFA0cQaW1HUFs0RxB8CAcQe3yGEF0hhxBGYoYQfrVGEEy4hlBb0cNQe/0GEFAdBtBA6cXQYQ2FkGnMBpBtYYaQZoxGUHISBZBzy0dQdnls0D4FbRA/emzQFxutEAx97lAjka0QDTKskCGcLdACqa6QEuHtEBcOLNAsiyzQO4AskBMRBtB9MkZQSwtH0GfihlBJ3QgQT1pGEF/Rh1BTrMdQYgpGUEmaRxBjzIaQbIYGUElqxpBfM4bQQXNGUHfYxhBChYXQYQoGUG9RBpBNqUbQXKTGkHwgxxB9y4XQS4eG0G9uhlBvzgYQeTiJEFPqRlB4EcaQTSrGUGSKBpBhmIWQW+jGkFgNhRBTwEbQf1aG0FybCBBd6saQeK6F0E2KRlBrB4dQdPrGUElcxZBthMWQZtjF0Fbux5B3vMYQZvXFUE7lBdBhmoaQWU3G0FdJBdBze4XQTK4FkHszhRBjuwVQfcdHEHGohVBb00eQSVEGEGV9hxBvBoWQQpcFUE87xZB00YYQRVuHEG2AhhBU/sXQdNRGUEIbxlBDsEZQcHyF0EqSxhBrlIYQdCPFkHOlxtBGS4aQY6ys0Bi+rFA4amxQLVPs0B6Sz9AeU6kQHkMsEBRqh1BVncvQBqUH0FE0DtBNCChQJQdMUCGqhlBxU4YQaN9HUF+dB1Bj24cQcS7G0HLUxtB7eIcQWR4GkESzhxBm+4gQancGkFZ+RxB",
          "dtype": "f4"
         }
        }
       ],
       "layout": {
        "legend": {
         "title": {
          "text": "color"
         },
         "tracegroupgap": 0
        },
        "scene": {
         "domain": {
          "x": [
           0,
           1
          ],
          "y": [
           0,
           1
          ]
         },
         "xaxis": {
          "title": {
           "text": "UMAP1"
          }
         },
         "yaxis": {
          "title": {
           "text": "UMAP2"
          }
         },
         "zaxis": {
          "title": {
           "text": "UMAP3"
          }
         }
        },
        "template": {
         "data": {
          "bar": [
           {
            "error_x": {
             "color": "#2a3f5f"
            },
            "error_y": {
             "color": "#2a3f5f"
            },
            "marker": {
             "line": {
              "color": "#E5ECF6",
              "width": 0.5
             },
             "pattern": {
              "fillmode": "overlay",
              "size": 10,
              "solidity": 0.2
             }
            },
            "type": "bar"
           }
          ],
          "barpolar": [
           {
            "marker": {
             "line": {
              "color": "#E5ECF6",
              "width": 0.5
             },
             "pattern": {
              "fillmode": "overlay",
              "size": 10,
              "solidity": 0.2
             }
            },
            "type": "barpolar"
           }
          ],
          "carpet": [
           {
            "aaxis": {
             "endlinecolor": "#2a3f5f",
             "gridcolor": "white",
             "linecolor": "white",
             "minorgridcolor": "white",
             "startlinecolor": "#2a3f5f"
            },
            "baxis": {
             "endlinecolor": "#2a3f5f",
             "gridcolor": "white",
             "linecolor": "white",
             "minorgridcolor": "white",
             "startlinecolor": "#2a3f5f"
            },
            "type": "carpet"
           }
          ],
          "choropleth": [
           {
            "colorbar": {
             "outlinewidth": 0,
             "ticks": ""
            },
            "type": "choropleth"
           }
          ],
          "contour": [
           {
            "colorbar": {
             "outlinewidth": 0,
             "ticks": ""
            },
            "colorscale": [
             [
              0,
              "#0d0887"
             ],
             [
              0.1111111111111111,
              "#46039f"
             ],
             [
              0.2222222222222222,
              "#7201a8"
             ],
             [
              0.3333333333333333,
              "#9c179e"
             ],
             [
              0.4444444444444444,
              "#bd3786"
             ],
             [
              0.5555555555555556,
              "#d8576b"
             ],
             [
              0.6666666666666666,
              "#ed7953"
             ],
             [
              0.7777777777777778,
              "#fb9f3a"
             ],
             [
              0.8888888888888888,
              "#fdca26"
             ],
             [
              1,
              "#f0f921"
             ]
            ],
            "type": "contour"
           }
          ],
          "contourcarpet": [
           {
            "colorbar": {
             "outlinewidth": 0,
             "ticks": ""
            },
            "type": "contourcarpet"
           }
          ],
          "heatmap": [
           {
            "colorbar": {
             "outlinewidth": 0,
             "ticks": ""
            },
            "colorscale": [
             [
              0,
              "#0d0887"
             ],
             [
              0.1111111111111111,
              "#46039f"
             ],
             [
              0.2222222222222222,
              "#7201a8"
             ],
             [
              0.3333333333333333,
              "#9c179e"
             ],
             [
              0.4444444444444444,
              "#bd3786"
             ],
             [
              0.5555555555555556,
              "#d8576b"
             ],
             [
              0.6666666666666666,
              "#ed7953"
             ],
             [
              0.7777777777777778,
              "#fb9f3a"
             ],
             [
              0.8888888888888888,
              "#fdca26"
             ],
             [
              1,
              "#f0f921"
             ]
            ],
            "type": "heatmap"
           }
          ],
          "histogram": [
           {
            "marker": {
             "pattern": {
              "fillmode": "overlay",
              "size": 10,
              "solidity": 0.2
             }
            },
            "type": "histogram"
           }
          ],
          "histogram2d": [
           {
            "colorbar": {
             "outlinewidth": 0,
             "ticks": ""
            },
            "colorscale": [
             [
              0,
              "#0d0887"
             ],
             [
              0.1111111111111111,
              "#46039f"
             ],
             [
              0.2222222222222222,
              "#7201a8"
             ],
             [
              0.3333333333333333,
              "#9c179e"
             ],
             [
              0.4444444444444444,
              "#bd3786"
             ],
             [
              0.5555555555555556,
              "#d8576b"
             ],
             [
              0.6666666666666666,
              "#ed7953"
             ],
             [
              0.7777777777777778,
              "#fb9f3a"
             ],
             [
              0.8888888888888888,
              "#fdca26"
             ],
             [
              1,
              "#f0f921"
             ]
            ],
            "type": "histogram2d"
           }
          ],
          "histogram2dcontour": [
           {
            "colorbar": {
             "outlinewidth": 0,
             "ticks": ""
            },
            "colorscale": [
             [
              0,
              "#0d0887"
             ],
             [
              0.1111111111111111,
              "#46039f"
             ],
             [
              0.2222222222222222,
              "#7201a8"
             ],
             [
              0.3333333333333333,
              "#9c179e"
             ],
             [
              0.4444444444444444,
              "#bd3786"
             ],
             [
              0.5555555555555556,
              "#d8576b"
             ],
             [
              0.6666666666666666,
              "#ed7953"
             ],
             [
              0.7777777777777778,
              "#fb9f3a"
             ],
             [
              0.8888888888888888,
              "#fdca26"
             ],
             [
              1,
              "#f0f921"
             ]
            ],
            "type": "histogram2dcontour"
           }
          ],
          "mesh3d": [
           {
            "colorbar": {
             "outlinewidth": 0,
             "ticks": ""
            },
            "type": "mesh3d"
           }
          ],
          "parcoords": [
           {
            "line": {
             "colorbar": {
              "outlinewidth": 0,
              "ticks": ""
             }
            },
            "type": "parcoords"
           }
          ],
          "pie": [
           {
            "automargin": true,
            "type": "pie"
           }
          ],
          "scatter": [
           {
            "fillpattern": {
             "fillmode": "overlay",
             "size": 10,
             "solidity": 0.2
            },
            "type": "scatter"
           }
          ],
          "scatter3d": [
           {
            "line": {
             "colorbar": {
              "outlinewidth": 0,
              "ticks": ""
             }
            },
            "marker": {
             "colorbar": {
              "outlinewidth": 0,
              "ticks": ""
             }
            },
            "type": "scatter3d"
           }
          ],
          "scattercarpet": [
           {
            "marker": {
             "colorbar": {
              "outlinewidth": 0,
              "ticks": ""
             }
            },
            "type": "scattercarpet"
           }
          ],
          "scattergeo": [
           {
            "marker": {
             "colorbar": {
              "outlinewidth": 0,
              "ticks": ""
             }
            },
            "type": "scattergeo"
           }
          ],
          "scattergl": [
           {
            "marker": {
             "colorbar": {
              "outlinewidth": 0,
              "ticks": ""
             }
            },
            "type": "scattergl"
           }
          ],
          "scattermap": [
           {
            "marker": {
             "colorbar": {
              "outlinewidth": 0,
              "ticks": ""
             }
            },
            "type": "scattermap"
           }
          ],
          "scattermapbox": [
           {
            "marker": {
             "colorbar": {
              "outlinewidth": 0,
              "ticks": ""
             }
            },
            "type": "scattermapbox"
           }
          ],
          "scatterpolar": [
           {
            "marker": {
             "colorbar": {
              "outlinewidth": 0,
              "ticks": ""
             }
            },
            "type": "scatterpolar"
           }
          ],
          "scatterpolargl": [
           {
            "marker": {
             "colorbar": {
              "outlinewidth": 0,
              "ticks": ""
             }
            },
            "type": "scatterpolargl"
           }
          ],
          "scatterternary": [
           {
            "marker": {
             "colorbar": {
              "outlinewidth": 0,
              "ticks": ""
             }
            },
            "type": "scatterternary"
           }
          ],
          "surface": [
           {
            "colorbar": {
             "outlinewidth": 0,
             "ticks": ""
            },
            "colorscale": [
             [
              0,
              "#0d0887"
             ],
             [
              0.1111111111111111,
              "#46039f"
             ],
             [
              0.2222222222222222,
              "#7201a8"
             ],
             [
              0.3333333333333333,
              "#9c179e"
             ],
             [
              0.4444444444444444,
              "#bd3786"
             ],
             [
              0.5555555555555556,
              "#d8576b"
             ],
             [
              0.6666666666666666,
              "#ed7953"
             ],
             [
              0.7777777777777778,
              "#fb9f3a"
             ],
             [
              0.8888888888888888,
              "#fdca26"
             ],
             [
              1,
              "#f0f921"
             ]
            ],
            "type": "surface"
           }
          ],
          "table": [
           {
            "cells": {
             "fill": {
              "color": "#EBF0F8"
             },
             "line": {
              "color": "white"
             }
            },
            "header": {
             "fill": {
              "color": "#C8D4E3"
             },
             "line": {
              "color": "white"
             }
            },
            "type": "table"
           }
          ]
         },
         "layout": {
          "annotationdefaults": {
           "arrowcolor": "#2a3f5f",
           "arrowhead": 0,
           "arrowwidth": 1
          },
          "autotypenumbers": "strict",
          "coloraxis": {
           "colorbar": {
            "outlinewidth": 0,
            "ticks": ""
           }
          },
          "colorscale": {
           "diverging": [
            [
             0,
             "#8e0152"
            ],
            [
             0.1,
             "#c51b7d"
            ],
            [
             0.2,
             "#de77ae"
            ],
            [
             0.3,
             "#f1b6da"
            ],
            [
             0.4,
             "#fde0ef"
            ],
            [
             0.5,
             "#f7f7f7"
            ],
            [
             0.6,
             "#e6f5d0"
            ],
            [
             0.7,
             "#b8e186"
            ],
            [
             0.8,
             "#7fbc41"
            ],
            [
             0.9,
             "#4d9221"
            ],
            [
             1,
             "#276419"
            ]
           ],
           "sequential": [
            [
             0,
             "#0d0887"
            ],
            [
             0.1111111111111111,
             "#46039f"
            ],
            [
             0.2222222222222222,
             "#7201a8"
            ],
            [
             0.3333333333333333,
             "#9c179e"
            ],
            [
             0.4444444444444444,
             "#bd3786"
            ],
            [
             0.5555555555555556,
             "#d8576b"
            ],
            [
             0.6666666666666666,
             "#ed7953"
            ],
            [
             0.7777777777777778,
             "#fb9f3a"
            ],
            [
             0.8888888888888888,
             "#fdca26"
            ],
            [
             1,
             "#f0f921"
            ]
           ],
           "sequentialminus": [
            [
             0,
             "#0d0887"
            ],
            [
             0.1111111111111111,
             "#46039f"
            ],
            [
             0.2222222222222222,
             "#7201a8"
            ],
            [
             0.3333333333333333,
             "#9c179e"
            ],
            [
             0.4444444444444444,
             "#bd3786"
            ],
            [
             0.5555555555555556,
             "#d8576b"
            ],
            [
             0.6666666666666666,
             "#ed7953"
            ],
            [
             0.7777777777777778,
             "#fb9f3a"
            ],
            [
             0.8888888888888888,
             "#fdca26"
            ],
            [
             1,
             "#f0f921"
            ]
           ]
          },
          "colorway": [
           "#636efa",
           "#EF553B",
           "#00cc96",
           "#ab63fa",
           "#FFA15A",
           "#19d3f3",
           "#FF6692",
           "#B6E880",
           "#FF97FF",
           "#FECB52"
          ],
          "font": {
           "color": "#2a3f5f"
          },
          "geo": {
           "bgcolor": "white",
           "lakecolor": "white",
           "landcolor": "#E5ECF6",
           "showlakes": true,
           "showland": true,
           "subunitcolor": "white"
          },
          "hoverlabel": {
           "align": "left"
          },
          "hovermode": "closest",
          "mapbox": {
           "style": "light"
          },
          "paper_bgcolor": "white",
          "plot_bgcolor": "#E5ECF6",
          "polar": {
           "angularaxis": {
            "gridcolor": "white",
            "linecolor": "white",
            "ticks": ""
           },
           "bgcolor": "#E5ECF6",
           "radialaxis": {
            "gridcolor": "white",
            "linecolor": "white",
            "ticks": ""
           }
          },
          "scene": {
           "xaxis": {
            "backgroundcolor": "#E5ECF6",
            "gridcolor": "white",
            "gridwidth": 2,
            "linecolor": "white",
            "showbackground": true,
            "ticks": "",
            "zerolinecolor": "white"
           },
           "yaxis": {
            "backgroundcolor": "#E5ECF6",
            "gridcolor": "white",
            "gridwidth": 2,
            "linecolor": "white",
            "showbackground": true,
            "ticks": "",
            "zerolinecolor": "white"
           },
           "zaxis": {
            "backgroundcolor": "#E5ECF6",
            "gridcolor": "white",
            "gridwidth": 2,
            "linecolor": "white",
            "showbackground": true,
            "ticks": "",
            "zerolinecolor": "white"
           }
          },
          "shapedefaults": {
           "line": {
            "color": "#2a3f5f"
           }
          },
          "ternary": {
           "aaxis": {
            "gridcolor": "white",
            "linecolor": "white",
            "ticks": ""
           },
           "baxis": {
            "gridcolor": "white",
            "linecolor": "white",
            "ticks": ""
           },
           "bgcolor": "#E5ECF6",
           "caxis": {
            "gridcolor": "white",
            "linecolor": "white",
            "ticks": ""
           }
          },
          "title": {
           "x": 0.05
          },
          "xaxis": {
           "automargin": true,
           "gridcolor": "white",
           "linecolor": "white",
           "ticks": "",
           "title": {
            "standoff": 15
           },
           "zerolinecolor": "white",
           "zerolinewidth": 2
          },
          "yaxis": {
           "automargin": true,
           "gridcolor": "white",
           "linecolor": "white",
           "ticks": "",
           "title": {
            "standoff": 15
           },
           "zerolinecolor": "white",
           "zerolinewidth": 2
          }
         }
        },
        "title": {
         "text": "UMAP en 3D (Interactif)"
        }
       }
      }
     },
     "metadata": {},
     "output_type": "display_data"
    }
   ],
   "source": [
    "import numpy as np\n",
    "from sklearn.datasets import load_digits\n",
    "from sklearn.decomposition import PCA\n",
    "from sklearn.manifold import TSNE\n",
    "import umap\n",
    "import plotly.express as px\n",
    "\n",
    "# Charger un jeu de données d'exemple (chiffres manuscrits)\n",
    "digits = load_digits()\n",
    "X = digits.data\n",
    "y = digits.target\n",
    "\n",
    "# Réduction de dimension avec UMAP\n",
    "umap_model = umap.UMAP(n_components=3, random_state=42)\n",
    "X_umap = umap_model.fit_transform(X)\n",
    "\n",
    "fig_umap = px.scatter_3d(\n",
    "    x=X_umap[:, 0], y=X_umap[:, 1], z=X_umap[:, 2],\n",
    "    color=y.astype(str), title=\"UMAP en 3D (Interactif)\",\n",
    "    labels={\"x\": \"UMAP1\", \"y\": \"UMAP2\", \"z\": \"UMAP3\"}\n",
    ")\n",
    "fig_umap.show()\n"
   ]
  }
 ],
 "metadata": {
  "kernelspec": {
   "display_name": "venv (3.12.3)",
   "language": "python",
   "name": "python3"
  },
  "language_info": {
   "codemirror_mode": {
    "name": "ipython",
    "version": 3
   },
   "file_extension": ".py",
   "mimetype": "text/x-python",
   "name": "python",
   "nbconvert_exporter": "python",
   "pygments_lexer": "ipython3",
   "version": "3.12.3"
  }
 },
 "nbformat": 4,
 "nbformat_minor": 5
}
